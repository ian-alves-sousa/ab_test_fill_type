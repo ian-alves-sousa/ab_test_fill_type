{
 "cells": [
  {
   "cell_type": "markdown",
   "metadata": {},
   "source": [
    "# AB Testing Course - PA Bond"
   ]
  },
  {
   "cell_type": "code",
   "execution_count": 3,
   "metadata": {},
   "outputs": [],
   "source": [
    "import pandas as pd\n",
    "import numpy as np\n",
    "import math\n",
    "from statsmodels.stats import api as sms\n",
    "from statsmodels.stats.multicomp import pairwise_tukeyhsd\n",
    "from scipy.stats import ttest_1samp,shapiro,ttest_ind,mannwhitneyu,f_oneway,chi2_contingency\n",
    "import seaborn as sns\n",
    "from matplotlib            import pyplot as plt\n",
    "import pingouin as pg"
   ]
  },
  {
   "cell_type": "markdown",
   "metadata": {},
   "source": [
    "## 0.0 Planejamento"
   ]
  },
  {
   "cell_type": "markdown",
   "metadata": {},
   "source": [
    "## 1.0 Design do Experimento"
   ]
  },
  {
   "cell_type": "code",
   "execution_count": 4,
   "metadata": {},
   "outputs": [],
   "source": [
    "# Imagina que o experimento ainda não aconteceu, então desenhamos ele como deveria acontecer\n",
    "\n",
    "# Objetivo: Definir se o preenchumento automático da página de checkout é melhor do que o preenchimento manual\n",
    "# Para escolher a métrica de sucesso é interessante trabalhar com algo que não apresenta um alto desvio padrão, pois isso pode influenciar no tamanho da amostra que precisa, o melhor é trabalhar com a conversão, se não tem, o número de compra e por fim o faturamento\n",
    "# Métrica com dispersão naturalmente menor\n",
    "# Conversão - (0 - 1)\n",
    "# Compras - (0 - Unidades)\n",
    "# GMV - (0 - Valor)\n",
    "# Métrica: GMV (Gross Margin Revenue) Médio\n",
    "\n",
    "# Grupo A = Preenchimento automático\n",
    "# Grupo B = Preenchimento manual"
   ]
  },
  {
   "cell_type": "markdown",
   "metadata": {},
   "source": [
    "### 1.1 Hipótese do Experimento"
   ]
  },
  {
   "cell_type": "markdown",
   "metadata": {},
   "source": [
    "H0: Avg Purchases A = Avg Purchases B <br>\n",
    "H1: Avg Purchases A <> Avg Purchases B"
   ]
  },
  {
   "cell_type": "markdown",
   "metadata": {},
   "source": [
    "## 2.0 Preparação dos dados"
   ]
  },
  {
   "cell_type": "markdown",
   "metadata": {},
   "source": [
    "### 2.1 Loading Data"
   ]
  },
  {
   "cell_type": "code",
   "execution_count": 5,
   "metadata": {},
   "outputs": [],
   "source": [
    "df_raw = pd.read_csv('../data/ab_testing.csv')"
   ]
  },
  {
   "cell_type": "code",
   "execution_count": 6,
   "metadata": {},
   "outputs": [],
   "source": [
    "df2 = df_raw.copy()"
   ]
  },
  {
   "cell_type": "markdown",
   "metadata": {},
   "source": [
    "### 2.2 Descriptive Statistics"
   ]
  },
  {
   "cell_type": "code",
   "execution_count": 7,
   "metadata": {},
   "outputs": [
    {
     "name": "stdout",
     "output_type": "stream",
     "text": [
      "Number of rows: 45883\n",
      "Number of columns: 8\n"
     ]
    }
   ],
   "source": [
    "print(f'Number of rows: {df2.shape[0]}')\n",
    "print(f'Number of columns: {df2.shape[1]}')"
   ]
  },
  {
   "cell_type": "code",
   "execution_count": 8,
   "metadata": {},
   "outputs": [
    {
     "data": {
      "text/html": [
       "<div>\n",
       "<style scoped>\n",
       "    .dataframe tbody tr th:only-of-type {\n",
       "        vertical-align: middle;\n",
       "    }\n",
       "\n",
       "    .dataframe tbody tr th {\n",
       "        vertical-align: top;\n",
       "    }\n",
       "\n",
       "    .dataframe thead th {\n",
       "        text-align: right;\n",
       "    }\n",
       "</style>\n",
       "<table border=\"1\" class=\"dataframe\">\n",
       "  <thead>\n",
       "    <tr style=\"text-align: right;\">\n",
       "      <th></th>\n",
       "      <th>group</th>\n",
       "      <th>uid</th>\n",
       "    </tr>\n",
       "  </thead>\n",
       "  <tbody>\n",
       "    <tr>\n",
       "      <th>0</th>\n",
       "      <td>GRP A</td>\n",
       "      <td>23009</td>\n",
       "    </tr>\n",
       "    <tr>\n",
       "      <th>1</th>\n",
       "      <td>GRP B</td>\n",
       "      <td>22874</td>\n",
       "    </tr>\n",
       "  </tbody>\n",
       "</table>\n",
       "</div>"
      ],
      "text/plain": [
       "   group    uid\n",
       "0  GRP A  23009\n",
       "1  GRP B  22874"
      ]
     },
     "execution_count": 8,
     "metadata": {},
     "output_type": "execute_result"
    }
   ],
   "source": [
    "df2.loc[:,['uid','group']].groupby('group').count().reset_index()"
   ]
  },
  {
   "cell_type": "markdown",
   "metadata": {},
   "source": [
    "#### 2.2.1 Check NA"
   ]
  },
  {
   "cell_type": "code",
   "execution_count": 9,
   "metadata": {},
   "outputs": [
    {
     "data": {
      "text/plain": [
       "uid          0\n",
       "country      0\n",
       "gender       0\n",
       "spent        0\n",
       "purchases    0\n",
       "date         0\n",
       "group        0\n",
       "device       0\n",
       "dtype: int64"
      ]
     },
     "execution_count": 9,
     "metadata": {},
     "output_type": "execute_result"
    }
   ],
   "source": [
    "df2.isna().sum()"
   ]
  },
  {
   "cell_type": "markdown",
   "metadata": {},
   "source": [
    "#### 2.2.2 Check Unidade Experimental (pessoas)"
   ]
  },
  {
   "cell_type": "code",
   "execution_count": 10,
   "metadata": {},
   "outputs": [
    {
     "data": {
      "text/html": [
       "<div>\n",
       "<style scoped>\n",
       "    .dataframe tbody tr th:only-of-type {\n",
       "        vertical-align: middle;\n",
       "    }\n",
       "\n",
       "    .dataframe tbody tr th {\n",
       "        vertical-align: top;\n",
       "    }\n",
       "\n",
       "    .dataframe thead th {\n",
       "        text-align: right;\n",
       "    }\n",
       "</style>\n",
       "<table border=\"1\" class=\"dataframe\">\n",
       "  <thead>\n",
       "    <tr style=\"text-align: right;\">\n",
       "      <th></th>\n",
       "      <th>uid</th>\n",
       "      <th>group</th>\n",
       "    </tr>\n",
       "  </thead>\n",
       "  <tbody>\n",
       "  </tbody>\n",
       "</table>\n",
       "</div>"
      ],
      "text/plain": [
       "Empty DataFrame\n",
       "Columns: [uid, group]\n",
       "Index: []"
      ]
     },
     "execution_count": 10,
     "metadata": {},
     "output_type": "execute_result"
    }
   ],
   "source": [
    "df2.loc[:,['uid','group']].groupby('uid').count().reset_index().query('group > 1')"
   ]
  },
  {
   "cell_type": "markdown",
   "metadata": {},
   "source": [
    "#### 2.2.3 Control and Treatment Homogenity"
   ]
  },
  {
   "cell_type": "code",
   "execution_count": 11,
   "metadata": {},
   "outputs": [
    {
     "data": {
      "text/html": [
       "<div>\n",
       "<style scoped>\n",
       "    .dataframe tbody tr th:only-of-type {\n",
       "        vertical-align: middle;\n",
       "    }\n",
       "\n",
       "    .dataframe tbody tr th {\n",
       "        vertical-align: top;\n",
       "    }\n",
       "\n",
       "    .dataframe thead th {\n",
       "        text-align: right;\n",
       "    }\n",
       "</style>\n",
       "<table border=\"1\" class=\"dataframe\">\n",
       "  <thead>\n",
       "    <tr style=\"text-align: right;\">\n",
       "      <th></th>\n",
       "      <th>gender</th>\n",
       "      <th>group</th>\n",
       "      <th>uid</th>\n",
       "    </tr>\n",
       "  </thead>\n",
       "  <tbody>\n",
       "    <tr>\n",
       "      <th>0</th>\n",
       "      <td>F</td>\n",
       "      <td>GRP A</td>\n",
       "      <td>11371</td>\n",
       "    </tr>\n",
       "    <tr>\n",
       "      <th>1</th>\n",
       "      <td>F</td>\n",
       "      <td>GRP B</td>\n",
       "      <td>11396</td>\n",
       "    </tr>\n",
       "    <tr>\n",
       "      <th>2</th>\n",
       "      <td>M</td>\n",
       "      <td>GRP A</td>\n",
       "      <td>11638</td>\n",
       "    </tr>\n",
       "    <tr>\n",
       "      <th>3</th>\n",
       "      <td>M</td>\n",
       "      <td>GRP B</td>\n",
       "      <td>11478</td>\n",
       "    </tr>\n",
       "  </tbody>\n",
       "</table>\n",
       "</div>"
      ],
      "text/plain": [
       "  gender  group    uid\n",
       "0      F  GRP A  11371\n",
       "1      F  GRP B  11396\n",
       "2      M  GRP A  11638\n",
       "3      M  GRP B  11478"
      ]
     },
     "execution_count": 11,
     "metadata": {},
     "output_type": "execute_result"
    }
   ],
   "source": [
    "df2.loc[:,['uid','group','gender']].groupby(['gender','group']).count().reset_index()"
   ]
  },
  {
   "cell_type": "code",
   "execution_count": 12,
   "metadata": {},
   "outputs": [
    {
     "data": {
      "text/html": [
       "<div>\n",
       "<style scoped>\n",
       "    .dataframe tbody tr th:only-of-type {\n",
       "        vertical-align: middle;\n",
       "    }\n",
       "\n",
       "    .dataframe tbody tr th {\n",
       "        vertical-align: top;\n",
       "    }\n",
       "\n",
       "    .dataframe thead th {\n",
       "        text-align: right;\n",
       "    }\n",
       "</style>\n",
       "<table border=\"1\" class=\"dataframe\">\n",
       "  <thead>\n",
       "    <tr style=\"text-align: right;\">\n",
       "      <th></th>\n",
       "      <th>device</th>\n",
       "      <th>group</th>\n",
       "      <th>uid</th>\n",
       "    </tr>\n",
       "  </thead>\n",
       "  <tbody>\n",
       "    <tr>\n",
       "      <th>0</th>\n",
       "      <td>A</td>\n",
       "      <td>GRP A</td>\n",
       "      <td>11487</td>\n",
       "    </tr>\n",
       "    <tr>\n",
       "      <th>1</th>\n",
       "      <td>A</td>\n",
       "      <td>GRP B</td>\n",
       "      <td>11495</td>\n",
       "    </tr>\n",
       "    <tr>\n",
       "      <th>2</th>\n",
       "      <td>I</td>\n",
       "      <td>GRP A</td>\n",
       "      <td>11522</td>\n",
       "    </tr>\n",
       "    <tr>\n",
       "      <th>3</th>\n",
       "      <td>I</td>\n",
       "      <td>GRP B</td>\n",
       "      <td>11379</td>\n",
       "    </tr>\n",
       "  </tbody>\n",
       "</table>\n",
       "</div>"
      ],
      "text/plain": [
       "  device  group    uid\n",
       "0      A  GRP A  11487\n",
       "1      A  GRP B  11495\n",
       "2      I  GRP A  11522\n",
       "3      I  GRP B  11379"
      ]
     },
     "execution_count": 12,
     "metadata": {},
     "output_type": "execute_result"
    }
   ],
   "source": [
    "df2.loc[:,['uid','group','device']].groupby(['device','group']).count().reset_index()"
   ]
  },
  {
   "cell_type": "code",
   "execution_count": 13,
   "metadata": {},
   "outputs": [
    {
     "data": {
      "text/html": [
       "<div>\n",
       "<style scoped>\n",
       "    .dataframe tbody tr th:only-of-type {\n",
       "        vertical-align: middle;\n",
       "    }\n",
       "\n",
       "    .dataframe tbody tr th {\n",
       "        vertical-align: top;\n",
       "    }\n",
       "\n",
       "    .dataframe thead tr th {\n",
       "        text-align: left;\n",
       "    }\n",
       "\n",
       "    .dataframe thead tr:last-of-type th {\n",
       "        text-align: right;\n",
       "    }\n",
       "</style>\n",
       "<table border=\"1\" class=\"dataframe\">\n",
       "  <thead>\n",
       "    <tr>\n",
       "      <th></th>\n",
       "      <th>country</th>\n",
       "      <th colspan=\"5\" halign=\"left\">spent</th>\n",
       "      <th colspan=\"5\" halign=\"left\">purchases</th>\n",
       "    </tr>\n",
       "    <tr>\n",
       "      <th></th>\n",
       "      <th>count</th>\n",
       "      <th>min</th>\n",
       "      <th>max</th>\n",
       "      <th>mean</th>\n",
       "      <th>median</th>\n",
       "      <th>std</th>\n",
       "      <th>min</th>\n",
       "      <th>max</th>\n",
       "      <th>mean</th>\n",
       "      <th>median</th>\n",
       "      <th>std</th>\n",
       "    </tr>\n",
       "    <tr>\n",
       "      <th>group</th>\n",
       "      <th></th>\n",
       "      <th></th>\n",
       "      <th></th>\n",
       "      <th></th>\n",
       "      <th></th>\n",
       "      <th></th>\n",
       "      <th></th>\n",
       "      <th></th>\n",
       "      <th></th>\n",
       "      <th></th>\n",
       "      <th></th>\n",
       "    </tr>\n",
       "  </thead>\n",
       "  <tbody>\n",
       "    <tr>\n",
       "      <th>GRP A</th>\n",
       "      <td>23009</td>\n",
       "      <td>99</td>\n",
       "      <td>11176</td>\n",
       "      <td>1880.504281</td>\n",
       "      <td>1596.0</td>\n",
       "      <td>1368.402763</td>\n",
       "      <td>1</td>\n",
       "      <td>25</td>\n",
       "      <td>4.536355</td>\n",
       "      <td>4.0</td>\n",
       "      <td>3.110742</td>\n",
       "    </tr>\n",
       "    <tr>\n",
       "      <th>GRP B</th>\n",
       "      <td>22874</td>\n",
       "      <td>99</td>\n",
       "      <td>12170</td>\n",
       "      <td>1886.419822</td>\n",
       "      <td>1596.0</td>\n",
       "      <td>1359.422437</td>\n",
       "      <td>1</td>\n",
       "      <td>30</td>\n",
       "      <td>4.552461</td>\n",
       "      <td>4.0</td>\n",
       "      <td>3.094142</td>\n",
       "    </tr>\n",
       "  </tbody>\n",
       "</table>\n",
       "</div>"
      ],
      "text/plain": [
       "      country spent                                          purchases      \\\n",
       "        count   min    max         mean  median          std       min max   \n",
       "group                                                                        \n",
       "GRP A   23009    99  11176  1880.504281  1596.0  1368.402763         1  25   \n",
       "GRP B   22874    99  12170  1886.419822  1596.0  1359.422437         1  30   \n",
       "\n",
       "                                  \n",
       "           mean median       std  \n",
       "group                             \n",
       "GRP A  4.536355    4.0  3.110742  \n",
       "GRP B  4.552461    4.0  3.094142  "
      ]
     },
     "execution_count": 13,
     "metadata": {},
     "output_type": "execute_result"
    }
   ],
   "source": [
    "df2.groupby('group').agg({'country':'count',\n",
    "                          'spent':['min','max','mean','median','std'],\n",
    "                          'purchases':['min','max','mean','median','std']})"
   ]
  },
  {
   "cell_type": "code",
   "execution_count": 14,
   "metadata": {},
   "outputs": [
    {
     "data": {
      "image/png": "[encoded data removed]",
      "text/plain": [
       "<Figure size 640x480 with 1 Axes>"
      ]
     },
     "metadata": {},
     "output_type": "display_data"
    }
   ],
   "source": [
    "df2.loc[df2['group'] == 'GRP A','purchases'].hist(bins = 20);\n",
    "df2.loc[df2['group'] == 'GRP B','purchases'].hist(bins = 20);\n",
    "#Distribuições extremamente parecidas"
   ]
  },
  {
   "cell_type": "markdown",
   "metadata": {},
   "source": [
    "### 2.3 EDA"
   ]
  },
  {
   "cell_type": "code",
   "execution_count": 20,
   "metadata": {},
   "outputs": [
    {
     "data": {
      "image/png": "[encoded data removed]",
      "text/plain": [
       "<Figure size 400x600 with 1 Axes>"
      ]
     },
     "metadata": {},
     "output_type": "display_data"
    }
   ],
   "source": [
    "# Criando o boxplot\n",
    "plt.figure(figsize=(4, 6))\n",
    "sns.boxplot(y='purchases',  hue='group',data=df2)\n",
    "\n",
    "# Adicionando títulos e rótulos\n",
    "plt.title('Boxplot de Purchases')\n",
    "plt.ylabel('Purchases')\n",
    "\n",
    "# Exibindo o gráfico\n",
    "plt.show()"
   ]
  },
  {
   "cell_type": "markdown",
   "metadata": {},
   "source": [
    "#### 2.3.1 Ditribuição por Country"
   ]
  },
  {
   "cell_type": "code",
   "execution_count": 21,
   "metadata": {},
   "outputs": [
    {
     "data": {
      "image/png": "[encoded data removed]",
      "text/plain": [
       "<Figure size 1200x600 with 1 Axes>"
      ]
     },
     "metadata": {},
     "output_type": "display_data"
    }
   ],
   "source": [
    "# Criando o boxplot\n",
    "plt.figure(figsize=(12, 6))\n",
    "sns.boxplot(x='country', y='purchases',  hue='group',data=df2)\n",
    "\n",
    "# Adicionando títulos e rótulos\n",
    "plt.title('Boxplot de Purchases por País')\n",
    "plt.xlabel('País')\n",
    "plt.ylabel('Purchases')\n",
    "\n",
    "# Exibindo o gráfico\n",
    "plt.show()"
   ]
  },
  {
   "cell_type": "markdown",
   "metadata": {},
   "source": [
    "#### 2.3.2 Ditribuição por Device"
   ]
  },
  {
   "cell_type": "code",
   "execution_count": 19,
   "metadata": {},
   "outputs": [
    {
     "data": {
      "image/png": "[encoded data removed]",
      "text/plain": [
       "<Figure size 600x600 with 1 Axes>"
      ]
     },
     "metadata": {},
     "output_type": "display_data"
    }
   ],
   "source": [
    "# Criando o boxplot\n",
    "plt.figure(figsize=(6, 6))\n",
    "sns.boxplot(x='device', y='purchases',  hue='group',data=df2)\n",
    "\n",
    "# Adicionando títulos e rótulos\n",
    "plt.title('Boxplot de Purchases por Device')\n",
    "plt.xlabel('Device')\n",
    "plt.ylabel('Purchases')\n",
    "\n",
    "# Exibindo o gráfico\n",
    "plt.show()"
   ]
  },
  {
   "cell_type": "markdown",
   "metadata": {},
   "source": [
    "#### 2.3.3 Ditribuição por Gender"
   ]
  },
  {
   "cell_type": "code",
   "execution_count": 18,
   "metadata": {},
   "outputs": [
    {
     "data": {
      "image/png": "[encoded data removed]",
      "text/plain": [
       "<Figure size 600x600 with 1 Axes>"
      ]
     },
     "metadata": {},
     "output_type": "display_data"
    }
   ],
   "source": [
    "# Criando o boxplot\n",
    "plt.figure(figsize=(6, 6))\n",
    "sns.boxplot(x='gender', y='purchases',  hue='group',data=df2)\n",
    "\n",
    "# Adicionando títulos e rótulos\n",
    "plt.title('Boxplot de Purchases por Gênero')\n",
    "plt.xlabel('Gênero')\n",
    "plt.ylabel('Purchases')\n",
    "\n",
    "# Exibindo o gráfico\n",
    "plt.show()"
   ]
  },
  {
   "cell_type": "markdown",
   "metadata": {},
   "source": [
    "### 2.4 Definir o tamanho da amostra"
   ]
  },
  {
   "cell_type": "code",
   "execution_count": 14,
   "metadata": {},
   "outputs": [
    {
     "name": "stdout",
     "output_type": "stream",
     "text": [
      "O GMV Médio Total é de: 4.54 +/- 3.1\n"
     ]
    }
   ],
   "source": [
    "mean_pop = df2.loc[:,'purchases'].mean()\n",
    "std_pop = df2.loc[:,'purchases'].std()\n",
    "print(f'O GMV Médio Total é de: {round(mean_pop,2)} +/- {round(std_pop,2)}')"
   ]
  },
  {
   "cell_type": "code",
   "execution_count": 15,
   "metadata": {},
   "outputs": [
    {
     "name": "stdout",
     "output_type": "stream",
     "text": [
      "2928\n"
     ]
    }
   ],
   "source": [
    "lift = 0.05\n",
    "init_metric = mean_pop\n",
    "end_metric = init_metric*(1+lift)\n",
    "std_metric = std_pop\n",
    "\n",
    "effect_size = (end_metric - init_metric)/std_metric\n",
    "\n",
    "sample_size = np.ceil(sms.tt_ind_solve_power(\n",
    "  effect_size = effect_size,\n",
    "  alpha = 0.05,\n",
    "  power = 0.8\n",
    ")).astype(int)\n",
    "\n",
    "print(sample_size)"
   ]
  },
  {
   "cell_type": "markdown",
   "metadata": {},
   "source": [
    "## 3.0 Teste de Hipóteses"
   ]
  },
  {
   "cell_type": "markdown",
   "metadata": {},
   "source": [
    "#### 3.0.1 Condições para o teste estatístico"
   ]
  },
  {
   "cell_type": "code",
   "execution_count": 16,
   "metadata": {},
   "outputs": [],
   "source": [
    "df_A = df2.loc[df2['group'] == 'GRP A',:]\n",
    "df_B = df2.loc[df2['group'] == 'GRP B',:]"
   ]
  },
  {
   "cell_type": "code",
   "execution_count": 17,
   "metadata": {},
   "outputs": [
    {
     "name": "stdout",
     "output_type": "stream",
     "text": [
      "Há amostras o suficiente para realizar o teste.\n"
     ]
    }
   ],
   "source": [
    "if (df_A.shape[0] > sample_size) and (df_B.shape[0] > sample_size):\n",
    "  print(f'Há amostras o suficiente para realizar o teste.')\n",
    "else:\n",
    "  print(f'Não há amostras o suficiente para realizar o teste.')"
   ]
  },
  {
   "cell_type": "markdown",
   "metadata": {},
   "source": [
    "### 3.1 Groups"
   ]
  },
  {
   "cell_type": "code",
   "execution_count": 18,
   "metadata": {},
   "outputs": [
    {
     "name": "stdout",
     "output_type": "stream",
     "text": [
      "AVG Sample A: 4.51 +/- 3.03\n",
      "AVG Sample B: 4.61 +/- 3.01\n"
     ]
    }
   ],
   "source": [
    "sample_A = df2.loc[df2['group'] == 'GRP A','purchases'].sample(n=sample_size,random_state=42)\n",
    "sample_B = df2.loc[df2['group'] == 'GRP B','purchases'].sample(n=sample_size,random_state=42)\n",
    "\n",
    "#Métricas\n",
    "print(f'AVG Sample A: {round(sample_A.mean(),2)} +/- {round(sample_A.std(),2)}')\n",
    "print(f'AVG Sample B: {round(sample_B.mean(),2)} +/- {round(sample_B.std(),2)}')"
   ]
  },
  {
   "cell_type": "markdown",
   "metadata": {},
   "source": [
    "### 3.2 Inferência Estatística"
   ]
  },
  {
   "cell_type": "code",
   "execution_count": 19,
   "metadata": {},
   "outputs": [
    {
     "name": "stdout",
     "output_type": "stream",
     "text": [
      "p-value: 0.21\n"
     ]
    }
   ],
   "source": [
    "z_value,p_value = ttest_ind(sample_A,sample_B)\n",
    "print(f'p-value: {round(p_value,2)}')"
   ]
  },
  {
   "cell_type": "markdown",
   "metadata": {},
   "source": [
    "## 4.0 Conclusão"
   ]
  },
  {
   "cell_type": "code",
   "execution_count": 20,
   "metadata": {},
   "outputs": [
    {
     "name": "stdout",
     "output_type": "stream",
     "text": [
      "Falha em rejeitar a hipótese nula\n",
      "Não temos evidências suficientes para dizer que o preenchimento automático trouxe uma mudança significativa no GMV médio da página\n"
     ]
    }
   ],
   "source": [
    "if p_value < 0.05:\n",
    "  print(f'Rejeita a Hipótese nula')\n",
    "  print(f'Há uma mudança significativa no GMV médio da página')\n",
    "  if sample_A.mean() > sample_B.mean():\n",
    "    print(f'O GMV Médio da página com o preenchimento automático é estatisticamente MAIOR que o GMV Médio da página com o preenchimento manual')\n",
    "  else:\n",
    "    print(f'O GMV Médio da página com o preenchimento automático é estatisticamente MENOR que o GMV Médio da página com o preenchimento manual')\n",
    "else:\n",
    "  print(f'Falha em rejeitar a hipótese nula')\n",
    "  print(f'Não temos evidências suficientes para dizer que o preenchimento automático trouxe uma mudança significativa no GMV médio da página')"
   ]
  },
  {
   "cell_type": "code",
   "execution_count": 21,
   "metadata": {},
   "outputs": [],
   "source": [
    "#Próximos passos - Criar fazer uma EDA que mostre como os valores são aprecidos e criar uma função por país"
   ]
  },
  {
   "cell_type": "markdown",
   "metadata": {},
   "source": [
    "## 5.0 Função do Teste de hipóteses"
   ]
  },
  {
   "cell_type": "code",
   "execution_count": 22,
   "metadata": {},
   "outputs": [],
   "source": [
    "def hip_test(df2,lift,significance_level,power):\n",
    "  mean_pop = df2.loc[:,'purchases'].mean()\n",
    "  std_pop = df2.loc[:,'purchases'].std()\n",
    "\n",
    "  init_metric = mean_pop\n",
    "  end_metric = init_metric*(1+lift)\n",
    "  std_metric = std_pop\n",
    "\n",
    "  effect_size = (end_metric - init_metric)/std_metric\n",
    "\n",
    "  sample_size = np.ceil(sms.tt_ind_solve_power(\n",
    "    effect_size = effect_size,\n",
    "    alpha = significance_level,\n",
    "    power = power\n",
    "  )).astype(int)\n",
    "\n",
    "  df_A = df2.loc[df2['group'] == 'GRP A',:]\n",
    "  df_B = df2.loc[df2['group'] == 'GRP B',:]\n",
    "  print(f'\\nPara lift: {lift*100}%')\n",
    "  if (df_A.shape[0] > sample_size) and (df_B.shape[0] > sample_size):\n",
    "    print(f'Há amostras o suficiente para realizar o teste.')\n",
    "    sample_A = df2.loc[df2['group'] == 'GRP A','purchases'].sample(n=sample_size,random_state=42)\n",
    "    sample_B = df2.loc[df2['group'] == 'GRP B','purchases'].sample(n=sample_size,random_state=42)\n",
    "\n",
    "    #Métricas\n",
    "    #print(f'AVG Sample A: {round(sample_A.mean(),2)} +/- {round(sample_A.std(),2)}')\n",
    "    #print(f'AVG Sample B: {round(sample_B.mean(),2)} +/- {round(sample_B.std(),2)}')\n",
    "\n",
    "    z_value,p_value = ttest_ind(sample_A,sample_B)\n",
    "    #print(f'p-value: {round(p_value,2)}')\n",
    "\n",
    "    if p_value < significance_level:\n",
    "      print(f'Rejeita a Hipótese nula')\n",
    "      print(f'Há uma mudança significativa no GMV médio da página')\n",
    "      if sample_A.mean() > sample_B.mean():\n",
    "        print(f'O GMV Médio da página com o preenchimento automático é estatisticamente MAIOR que o GMV Médio da página com o preenchimento manual')\n",
    "      else:\n",
    "        print(f'O GMV Médio da página com o preenchimento automático é estatisticamente MENOR que o GMV Médio da página com o preenchimento manual')\n",
    "    else:\n",
    "      print(f'Falha em rejeitar a hipótese nula')\n",
    "      print(f'Não temos evidências suficientes para dizer que o preenchimento automático trouxe uma mudança significativa no GMV médio da página')\n",
    "  else:\n",
    "    print(f'Não há amostras o suficiente para realizar o teste.')"
   ]
  },
  {
   "cell_type": "code",
   "execution_count": 23,
   "metadata": {},
   "outputs": [
    {
     "name": "stdout",
     "output_type": "stream",
     "text": [
      "\n",
      "Para lift: 5.0%\n",
      "Há amostras o suficiente para realizar o teste.\n",
      "Falha em rejeitar a hipótese nula\n",
      "Não temos evidências suficientes para dizer que o preenchimento automático trouxe uma mudança significativa no GMV médio da página\n"
     ]
    }
   ],
   "source": [
    "hip_test(df2,0.05,0.05,0.8)"
   ]
  },
  {
   "cell_type": "code",
   "execution_count": 24,
   "metadata": {},
   "outputs": [
    {
     "name": "stdout",
     "output_type": "stream",
     "text": [
      "\n",
      "Para lift: 1.0%\n",
      "Não há amostras o suficiente para realizar o teste.\n",
      "\n",
      "Para lift: 5.0%\n",
      "Há amostras o suficiente para realizar o teste.\n",
      "Falha em rejeitar a hipótese nula\n",
      "Não temos evidências suficientes para dizer que o preenchimento automático trouxe uma mudança significativa no GMV médio da página\n",
      "\n",
      "Para lift: 10.0%\n",
      "Há amostras o suficiente para realizar o teste.\n",
      "Falha em rejeitar a hipótese nula\n",
      "Não temos evidências suficientes para dizer que o preenchimento automático trouxe uma mudança significativa no GMV médio da página\n",
      "\n",
      "Para lift: 15.0%\n",
      "Há amostras o suficiente para realizar o teste.\n",
      "Falha em rejeitar a hipótese nula\n",
      "Não temos evidências suficientes para dizer que o preenchimento automático trouxe uma mudança significativa no GMV médio da página\n",
      "\n",
      "Para lift: 20.0%\n",
      "Há amostras o suficiente para realizar o teste.\n",
      "Falha em rejeitar a hipótese nula\n",
      "Não temos evidências suficientes para dizer que o preenchimento automático trouxe uma mudança significativa no GMV médio da página\n"
     ]
    }
   ],
   "source": [
    "lifts = [0.01,0.05,0.1,0.15,0.2]\n",
    "for lift in lifts:\n",
    "  hip_test(df2,lift,0.05,0.8)"
   ]
  },
  {
   "cell_type": "markdown",
   "metadata": {},
   "source": [
    "Através dos testes podemos dizer que temos evidências para dizer que estatísticamente há diferença de 10% entre o GMV da página com preenchimento automático e com preenchimento manual, mas essa diferença é menor para o preenchimento automático, evidenciando que o novo modo de preechimento não obteve sucesso."
   ]
  },
  {
   "cell_type": "markdown",
   "metadata": {},
   "source": [
    "## 6.0 Testando com filtros diferentes"
   ]
  },
  {
   "cell_type": "markdown",
   "metadata": {},
   "source": [
    "### 6.1 Gênero"
   ]
  },
  {
   "cell_type": "code",
   "execution_count": 25,
   "metadata": {},
   "outputs": [
    {
     "data": {
      "text/plain": [
       "array(['F', 'M'], dtype=object)"
      ]
     },
     "execution_count": 25,
     "metadata": {},
     "output_type": "execute_result"
    }
   ],
   "source": [
    "df2['gender'].unique()"
   ]
  },
  {
   "cell_type": "markdown",
   "metadata": {},
   "source": [
    "#### 6.1.1 Feminino"
   ]
  },
  {
   "cell_type": "code",
   "execution_count": 26,
   "metadata": {},
   "outputs": [
    {
     "name": "stdout",
     "output_type": "stream",
     "text": [
      "\n",
      "Para lift: 1.0%\n",
      "Não há amostras o suficiente para realizar o teste.\n",
      "\n",
      "Para lift: 5.0%\n",
      "Há amostras o suficiente para realizar o teste.\n",
      "Falha em rejeitar a hipótese nula\n",
      "Não temos evidências suficientes para dizer que o preenchimento automático trouxe uma mudança significativa no GMV médio da página\n",
      "\n",
      "Para lift: 10.0%\n",
      "Há amostras o suficiente para realizar o teste.\n",
      "Falha em rejeitar a hipótese nula\n",
      "Não temos evidências suficientes para dizer que o preenchimento automático trouxe uma mudança significativa no GMV médio da página\n",
      "\n",
      "Para lift: 15.0%\n",
      "Há amostras o suficiente para realizar o teste.\n",
      "Falha em rejeitar a hipótese nula\n",
      "Não temos evidências suficientes para dizer que o preenchimento automático trouxe uma mudança significativa no GMV médio da página\n",
      "\n",
      "Para lift: 20.0%\n",
      "Há amostras o suficiente para realizar o teste.\n",
      "Falha em rejeitar a hipótese nula\n",
      "Não temos evidências suficientes para dizer que o preenchimento automático trouxe uma mudança significativa no GMV médio da página\n"
     ]
    }
   ],
   "source": [
    "df_F = df2.loc[df2['gender'] == 'F',:]\n",
    "lifts = [0.01,0.05,0.1,0.15,0.2]\n",
    "for lift in lifts:\n",
    "  hip_test(df_F,lift,0.05,0.8)"
   ]
  },
  {
   "cell_type": "markdown",
   "metadata": {},
   "source": [
    "#### 6.1.2 Masculino"
   ]
  },
  {
   "cell_type": "code",
   "execution_count": 27,
   "metadata": {},
   "outputs": [
    {
     "name": "stdout",
     "output_type": "stream",
     "text": [
      "\n",
      "Para lift: 1.0%\n",
      "Não há amostras o suficiente para realizar o teste.\n",
      "\n",
      "Para lift: 5.0%\n",
      "Há amostras o suficiente para realizar o teste.\n",
      "Falha em rejeitar a hipótese nula\n",
      "Não temos evidências suficientes para dizer que o preenchimento automático trouxe uma mudança significativa no GMV médio da página\n",
      "\n",
      "Para lift: 10.0%\n",
      "Há amostras o suficiente para realizar o teste.\n",
      "Falha em rejeitar a hipótese nula\n",
      "Não temos evidências suficientes para dizer que o preenchimento automático trouxe uma mudança significativa no GMV médio da página\n",
      "\n",
      "Para lift: 15.0%\n",
      "Há amostras o suficiente para realizar o teste.\n",
      "Falha em rejeitar a hipótese nula\n",
      "Não temos evidências suficientes para dizer que o preenchimento automático trouxe uma mudança significativa no GMV médio da página\n",
      "\n",
      "Para lift: 20.0%\n",
      "Há amostras o suficiente para realizar o teste.\n",
      "Falha em rejeitar a hipótese nula\n",
      "Não temos evidências suficientes para dizer que o preenchimento automático trouxe uma mudança significativa no GMV médio da página\n"
     ]
    }
   ],
   "source": [
    "df_M = df2.loc[df2['gender'] == 'M',:]\n",
    "lifts = [0.01,0.05,0.1,0.15,0.2]\n",
    "for lift in lifts:\n",
    "  hip_test(df_M,lift,0.05,0.8)"
   ]
  },
  {
   "cell_type": "markdown",
   "metadata": {},
   "source": [
    "### 6.2 Device"
   ]
  },
  {
   "cell_type": "code",
   "execution_count": 28,
   "metadata": {},
   "outputs": [
    {
     "data": {
      "text/plain": [
       "array(['I', 'A'], dtype=object)"
      ]
     },
     "execution_count": 28,
     "metadata": {},
     "output_type": "execute_result"
    }
   ],
   "source": [
    "df2['device'].unique()"
   ]
  },
  {
   "cell_type": "markdown",
   "metadata": {},
   "source": [
    "#### 6.2.1 Site"
   ]
  },
  {
   "cell_type": "code",
   "execution_count": 29,
   "metadata": {},
   "outputs": [
    {
     "name": "stdout",
     "output_type": "stream",
     "text": [
      "\n",
      "Para lift: 1.0%\n",
      "Não há amostras o suficiente para realizar o teste.\n",
      "\n",
      "Para lift: 5.0%\n",
      "Há amostras o suficiente para realizar o teste.\n",
      "Falha em rejeitar a hipótese nula\n",
      "Não temos evidências suficientes para dizer que o preenchimento automático trouxe uma mudança significativa no GMV médio da página\n",
      "\n",
      "Para lift: 10.0%\n",
      "Há amostras o suficiente para realizar o teste.\n",
      "Falha em rejeitar a hipótese nula\n",
      "Não temos evidências suficientes para dizer que o preenchimento automático trouxe uma mudança significativa no GMV médio da página\n",
      "\n",
      "Para lift: 15.0%\n",
      "Há amostras o suficiente para realizar o teste.\n",
      "Falha em rejeitar a hipótese nula\n",
      "Não temos evidências suficientes para dizer que o preenchimento automático trouxe uma mudança significativa no GMV médio da página\n",
      "\n",
      "Para lift: 20.0%\n",
      "Há amostras o suficiente para realizar o teste.\n",
      "Falha em rejeitar a hipótese nula\n",
      "Não temos evidências suficientes para dizer que o preenchimento automático trouxe uma mudança significativa no GMV médio da página\n"
     ]
    }
   ],
   "source": [
    "df_I = df2.loc[df2['device'] == 'I',:]\n",
    "lifts = [0.01,0.05,0.1,0.15,0.2]\n",
    "for lift in lifts:\n",
    "  hip_test(df_I,lift,0.05,0.8)"
   ]
  },
  {
   "cell_type": "markdown",
   "metadata": {},
   "source": [
    "#### 6.2.2 App"
   ]
  },
  {
   "cell_type": "code",
   "execution_count": 30,
   "metadata": {},
   "outputs": [
    {
     "name": "stdout",
     "output_type": "stream",
     "text": [
      "\n",
      "Para lift: 1.0%\n",
      "Não há amostras o suficiente para realizar o teste.\n",
      "\n",
      "Para lift: 5.0%\n",
      "Há amostras o suficiente para realizar o teste.\n",
      "Falha em rejeitar a hipótese nula\n",
      "Não temos evidências suficientes para dizer que o preenchimento automático trouxe uma mudança significativa no GMV médio da página\n",
      "\n",
      "Para lift: 10.0%\n",
      "Há amostras o suficiente para realizar o teste.\n",
      "Falha em rejeitar a hipótese nula\n",
      "Não temos evidências suficientes para dizer que o preenchimento automático trouxe uma mudança significativa no GMV médio da página\n",
      "\n",
      "Para lift: 15.0%\n",
      "Há amostras o suficiente para realizar o teste.\n",
      "Falha em rejeitar a hipótese nula\n",
      "Não temos evidências suficientes para dizer que o preenchimento automático trouxe uma mudança significativa no GMV médio da página\n",
      "\n",
      "Para lift: 20.0%\n",
      "Há amostras o suficiente para realizar o teste.\n",
      "Falha em rejeitar a hipótese nula\n",
      "Não temos evidências suficientes para dizer que o preenchimento automático trouxe uma mudança significativa no GMV médio da página\n"
     ]
    }
   ],
   "source": [
    "df_App = df2.loc[df2['device'] == 'A',:]\n",
    "lifts = [0.01,0.05,0.1,0.15,0.2]\n",
    "for lift in lifts:\n",
    "  hip_test(df_App,lift,0.05,0.8)"
   ]
  },
  {
   "cell_type": "markdown",
   "metadata": {},
   "source": [
    "### 6.3 Country"
   ]
  },
  {
   "cell_type": "code",
   "execution_count": 31,
   "metadata": {},
   "outputs": [
    {
     "data": {
      "text/plain": [
       "array(['MEX', 'USA', 'ESP', 'GBR', 'TUR', 'DEU', 'BRA', 'FRA', 'AUS',\n",
       "       'CAN'], dtype=object)"
      ]
     },
     "execution_count": 31,
     "metadata": {},
     "output_type": "execute_result"
    }
   ],
   "source": [
    "df2['country'].unique()"
   ]
  },
  {
   "cell_type": "code",
   "execution_count": 32,
   "metadata": {},
   "outputs": [
    {
     "name": "stdout",
     "output_type": "stream",
     "text": [
      "\n",
      "Para o país: MEX:\n",
      "\n",
      "Para lift: 1.0%\n",
      "Não há amostras o suficiente para realizar o teste.\n",
      "\n",
      "Para lift: 5.0%\n",
      "Não há amostras o suficiente para realizar o teste.\n",
      "\n",
      "Para lift: 10.0%\n",
      "Há amostras o suficiente para realizar o teste.\n",
      "Falha em rejeitar a hipótese nula\n",
      "Não temos evidências suficientes para dizer que o preenchimento automático trouxe uma mudança significativa no GMV médio da página\n",
      "\n",
      "Para lift: 15.0%\n",
      "Há amostras o suficiente para realizar o teste.\n",
      "Falha em rejeitar a hipótese nula\n",
      "Não temos evidências suficientes para dizer que o preenchimento automático trouxe uma mudança significativa no GMV médio da página\n",
      "\n",
      "Para lift: 20.0%\n",
      "Há amostras o suficiente para realizar o teste.\n",
      "Falha em rejeitar a hipótese nula\n",
      "Não temos evidências suficientes para dizer que o preenchimento automático trouxe uma mudança significativa no GMV médio da página\n",
      "\n",
      "Para o país: USA:\n",
      "\n",
      "Para lift: 1.0%\n",
      "Não há amostras o suficiente para realizar o teste.\n",
      "\n",
      "Para lift: 5.0%\n",
      "Há amostras o suficiente para realizar o teste.\n",
      "Falha em rejeitar a hipótese nula\n",
      "Não temos evidências suficientes para dizer que o preenchimento automático trouxe uma mudança significativa no GMV médio da página\n",
      "\n",
      "Para lift: 10.0%\n",
      "Há amostras o suficiente para realizar o teste.\n",
      "Falha em rejeitar a hipótese nula\n",
      "Não temos evidências suficientes para dizer que o preenchimento automático trouxe uma mudança significativa no GMV médio da página\n",
      "\n",
      "Para lift: 15.0%\n",
      "Há amostras o suficiente para realizar o teste.\n",
      "Falha em rejeitar a hipótese nula\n",
      "Não temos evidências suficientes para dizer que o preenchimento automático trouxe uma mudança significativa no GMV médio da página\n",
      "\n",
      "Para lift: 20.0%\n",
      "Há amostras o suficiente para realizar o teste.\n",
      "Falha em rejeitar a hipótese nula\n",
      "Não temos evidências suficientes para dizer que o preenchimento automático trouxe uma mudança significativa no GMV médio da página\n",
      "\n",
      "Para o país: ESP:\n",
      "\n",
      "Para lift: 1.0%\n",
      "Não há amostras o suficiente para realizar o teste.\n",
      "\n",
      "Para lift: 5.0%\n",
      "Não há amostras o suficiente para realizar o teste.\n",
      "\n",
      "Para lift: 10.0%\n",
      "Há amostras o suficiente para realizar o teste.\n",
      "Rejeita a Hipótese nula\n",
      "Há uma mudança significativa no GMV médio da página\n",
      "O GMV Médio da página com o preenchimento automático é estatisticamente MENOR que o GMV Médio da página com o preenchimento manual\n",
      "\n",
      "Para lift: 15.0%\n",
      "Há amostras o suficiente para realizar o teste.\n",
      "Falha em rejeitar a hipótese nula\n",
      "Não temos evidências suficientes para dizer que o preenchimento automático trouxe uma mudança significativa no GMV médio da página\n",
      "\n",
      "Para lift: 20.0%\n",
      "Há amostras o suficiente para realizar o teste.\n",
      "Falha em rejeitar a hipótese nula\n",
      "Não temos evidências suficientes para dizer que o preenchimento automático trouxe uma mudança significativa no GMV médio da página\n",
      "\n",
      "Para o país: GBR:\n",
      "\n",
      "Para lift: 1.0%\n",
      "Não há amostras o suficiente para realizar o teste.\n",
      "\n",
      "Para lift: 5.0%\n",
      "Não há amostras o suficiente para realizar o teste.\n",
      "\n",
      "Para lift: 10.0%\n",
      "Há amostras o suficiente para realizar o teste.\n",
      "Falha em rejeitar a hipótese nula\n",
      "Não temos evidências suficientes para dizer que o preenchimento automático trouxe uma mudança significativa no GMV médio da página\n",
      "\n",
      "Para lift: 15.0%\n",
      "Há amostras o suficiente para realizar o teste.\n",
      "Falha em rejeitar a hipótese nula\n",
      "Não temos evidências suficientes para dizer que o preenchimento automático trouxe uma mudança significativa no GMV médio da página\n",
      "\n",
      "Para lift: 20.0%\n",
      "Há amostras o suficiente para realizar o teste.\n",
      "Falha em rejeitar a hipótese nula\n",
      "Não temos evidências suficientes para dizer que o preenchimento automático trouxe uma mudança significativa no GMV médio da página\n",
      "\n",
      "Para o país: TUR:\n",
      "\n",
      "Para lift: 1.0%\n",
      "Não há amostras o suficiente para realizar o teste.\n",
      "\n",
      "Para lift: 5.0%\n",
      "Não há amostras o suficiente para realizar o teste.\n",
      "\n",
      "Para lift: 10.0%\n",
      "Há amostras o suficiente para realizar o teste.\n",
      "Falha em rejeitar a hipótese nula\n",
      "Não temos evidências suficientes para dizer que o preenchimento automático trouxe uma mudança significativa no GMV médio da página\n",
      "\n",
      "Para lift: 15.0%\n",
      "Há amostras o suficiente para realizar o teste.\n",
      "Falha em rejeitar a hipótese nula\n",
      "Não temos evidências suficientes para dizer que o preenchimento automático trouxe uma mudança significativa no GMV médio da página\n",
      "\n",
      "Para lift: 20.0%\n",
      "Há amostras o suficiente para realizar o teste.\n",
      "Falha em rejeitar a hipótese nula\n",
      "Não temos evidências suficientes para dizer que o preenchimento automático trouxe uma mudança significativa no GMV médio da página\n",
      "\n",
      "Para o país: DEU:\n",
      "\n",
      "Para lift: 1.0%\n",
      "Não há amostras o suficiente para realizar o teste.\n",
      "\n",
      "Para lift: 5.0%\n",
      "Não há amostras o suficiente para realizar o teste.\n",
      "\n",
      "Para lift: 10.0%\n",
      "Há amostras o suficiente para realizar o teste.\n",
      "Falha em rejeitar a hipótese nula\n",
      "Não temos evidências suficientes para dizer que o preenchimento automático trouxe uma mudança significativa no GMV médio da página\n",
      "\n",
      "Para lift: 15.0%\n",
      "Há amostras o suficiente para realizar o teste.\n",
      "Falha em rejeitar a hipótese nula\n",
      "Não temos evidências suficientes para dizer que o preenchimento automático trouxe uma mudança significativa no GMV médio da página\n",
      "\n",
      "Para lift: 20.0%\n",
      "Há amostras o suficiente para realizar o teste.\n",
      "Falha em rejeitar a hipótese nula\n",
      "Não temos evidências suficientes para dizer que o preenchimento automático trouxe uma mudança significativa no GMV médio da página\n",
      "\n",
      "Para o país: BRA:\n",
      "\n",
      "Para lift: 1.0%\n",
      "Não há amostras o suficiente para realizar o teste.\n",
      "\n",
      "Para lift: 5.0%\n",
      "Há amostras o suficiente para realizar o teste.\n",
      "Falha em rejeitar a hipótese nula\n",
      "Não temos evidências suficientes para dizer que o preenchimento automático trouxe uma mudança significativa no GMV médio da página\n",
      "\n",
      "Para lift: 10.0%\n",
      "Há amostras o suficiente para realizar o teste.\n",
      "Falha em rejeitar a hipótese nula\n",
      "Não temos evidências suficientes para dizer que o preenchimento automático trouxe uma mudança significativa no GMV médio da página\n",
      "\n",
      "Para lift: 15.0%\n",
      "Há amostras o suficiente para realizar o teste.\n",
      "Falha em rejeitar a hipótese nula\n",
      "Não temos evidências suficientes para dizer que o preenchimento automático trouxe uma mudança significativa no GMV médio da página\n",
      "\n",
      "Para lift: 20.0%\n",
      "Há amostras o suficiente para realizar o teste.\n",
      "Falha em rejeitar a hipótese nula\n",
      "Não temos evidências suficientes para dizer que o preenchimento automático trouxe uma mudança significativa no GMV médio da página\n",
      "\n",
      "Para o país: FRA:\n",
      "\n",
      "Para lift: 1.0%\n",
      "Não há amostras o suficiente para realizar o teste.\n",
      "\n",
      "Para lift: 5.0%\n",
      "Não há amostras o suficiente para realizar o teste.\n",
      "\n",
      "Para lift: 10.0%\n",
      "Há amostras o suficiente para realizar o teste.\n",
      "Falha em rejeitar a hipótese nula\n",
      "Não temos evidências suficientes para dizer que o preenchimento automático trouxe uma mudança significativa no GMV médio da página\n",
      "\n",
      "Para lift: 15.0%\n",
      "Há amostras o suficiente para realizar o teste.\n",
      "Falha em rejeitar a hipótese nula\n",
      "Não temos evidências suficientes para dizer que o preenchimento automático trouxe uma mudança significativa no GMV médio da página\n",
      "\n",
      "Para lift: 20.0%\n",
      "Há amostras o suficiente para realizar o teste.\n",
      "Falha em rejeitar a hipótese nula\n",
      "Não temos evidências suficientes para dizer que o preenchimento automático trouxe uma mudança significativa no GMV médio da página\n",
      "\n",
      "Para o país: AUS:\n",
      "\n",
      "Para lift: 1.0%\n",
      "Não há amostras o suficiente para realizar o teste.\n",
      "\n",
      "Para lift: 5.0%\n",
      "Não há amostras o suficiente para realizar o teste.\n",
      "\n",
      "Para lift: 10.0%\n",
      "Não há amostras o suficiente para realizar o teste.\n",
      "\n",
      "Para lift: 15.0%\n",
      "Há amostras o suficiente para realizar o teste.\n",
      "Falha em rejeitar a hipótese nula\n",
      "Não temos evidências suficientes para dizer que o preenchimento automático trouxe uma mudança significativa no GMV médio da página\n",
      "\n",
      "Para lift: 20.0%\n",
      "Há amostras o suficiente para realizar o teste.\n",
      "Falha em rejeitar a hipótese nula\n",
      "Não temos evidências suficientes para dizer que o preenchimento automático trouxe uma mudança significativa no GMV médio da página\n",
      "\n",
      "Para o país: CAN:\n",
      "\n",
      "Para lift: 1.0%\n",
      "Não há amostras o suficiente para realizar o teste.\n",
      "\n",
      "Para lift: 5.0%\n",
      "Não há amostras o suficiente para realizar o teste.\n",
      "\n",
      "Para lift: 10.0%\n",
      "Não há amostras o suficiente para realizar o teste.\n",
      "\n",
      "Para lift: 15.0%\n",
      "Há amostras o suficiente para realizar o teste.\n",
      "Falha em rejeitar a hipótese nula\n",
      "Não temos evidências suficientes para dizer que o preenchimento automático trouxe uma mudança significativa no GMV médio da página\n",
      "\n",
      "Para lift: 20.0%\n",
      "Há amostras o suficiente para realizar o teste.\n",
      "Falha em rejeitar a hipótese nula\n",
      "Não temos evidências suficientes para dizer que o preenchimento automático trouxe uma mudança significativa no GMV médio da página\n"
     ]
    }
   ],
   "source": [
    "countries = ['MEX', 'USA', 'ESP', 'GBR', 'TUR', 'DEU', 'BRA', 'FRA', 'AUS','CAN']\n",
    "for country in countries:\n",
    "  df_country = df2.loc[df2['country'] == country,:]\n",
    "  print(f'\\nPara o país: {country}:')\n",
    "  lifts = [0.01,0.05,0.1,0.15,0.2]\n",
    "  for lift in lifts:\n",
    "    hip_test(df_country,lift,0.05,0.8)"
   ]
  },
  {
   "cell_type": "code",
   "execution_count": 79,
   "metadata": {},
   "outputs": [],
   "source": [
    "#Fazer com o purchases também?"
   ]
  }
 ],
 "metadata": {
  "kernelspec": {
   "display_name": "a_b",
   "language": "python",
   "name": "python3"
  },
  "language_info": {
   "codemirror_mode": {
    "name": "ipython",
    "version": 3
   },
   "file_extension": ".py",
   "mimetype": "text/x-python",
   "name": "python",
   "nbconvert_exporter": "python",
   "pygments_lexer": "ipython3",
   "version": "3.10.11"
  }
 },
 "nbformat": 4,
 "nbformat_minor": 2
}
