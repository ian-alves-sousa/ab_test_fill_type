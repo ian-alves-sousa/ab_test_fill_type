{
 "cells": [
  {
   "cell_type": "markdown",
   "metadata": {},
   "source": [
    "# AB Testing Course - PA Bond"
   ]
  },
  {
   "cell_type": "markdown",
   "metadata": {},
   "source": [
    "# 0.1 Imports"
   ]
  },
  {
   "cell_type": "code",
   "execution_count": 50,
   "metadata": {},
   "outputs": [],
   "source": [
    "import pandas as pd\n",
    "import numpy as np\n",
    "import math\n",
    "from statsmodels.stats import api as sms\n",
    "from statsmodels.stats.multicomp import pairwise_tukeyhsd\n",
    "from scipy.stats import ttest_1samp,shapiro,ttest_ind,mannwhitneyu,f_oneway,chi2_contingency\n",
    "import seaborn as sns\n",
    "from matplotlib            import pyplot as plt"
   ]
  },
  {
   "cell_type": "markdown",
   "metadata": {},
   "source": [
    "# 1.0 Load Data"
   ]
  },
  {
   "cell_type": "code",
   "execution_count": 33,
   "metadata": {},
   "outputs": [],
   "source": [
    "df_raw = pd.read_csv('../data/ab_testing.csv')"
   ]
  },
  {
   "cell_type": "code",
   "execution_count": 34,
   "metadata": {},
   "outputs": [
    {
     "data": {
      "text/plain": [
       "(45883, 8)"
      ]
     },
     "execution_count": 34,
     "metadata": {},
     "output_type": "execute_result"
    }
   ],
   "source": [
    "df_raw.shape"
   ]
  },
  {
   "cell_type": "code",
   "execution_count": 40,
   "metadata": {},
   "outputs": [
    {
     "data": {
      "text/html": [
       "<div>\n",
       "<style scoped>\n",
       "    .dataframe tbody tr th:only-of-type {\n",
       "        vertical-align: middle;\n",
       "    }\n",
       "\n",
       "    .dataframe tbody tr th {\n",
       "        vertical-align: top;\n",
       "    }\n",
       "\n",
       "    .dataframe thead th {\n",
       "        text-align: right;\n",
       "    }\n",
       "</style>\n",
       "<table border=\"1\" class=\"dataframe\">\n",
       "  <thead>\n",
       "    <tr style=\"text-align: right;\">\n",
       "      <th></th>\n",
       "      <th>uid</th>\n",
       "      <th>country</th>\n",
       "      <th>gender</th>\n",
       "      <th>spent</th>\n",
       "      <th>purchases</th>\n",
       "      <th>date</th>\n",
       "      <th>group</th>\n",
       "      <th>device</th>\n",
       "    </tr>\n",
       "  </thead>\n",
       "  <tbody>\n",
       "    <tr>\n",
       "      <th>0</th>\n",
       "      <td>11115722</td>\n",
       "      <td>MEX</td>\n",
       "      <td>F</td>\n",
       "      <td>1595</td>\n",
       "      <td>5</td>\n",
       "      <td>2016-03-08</td>\n",
       "      <td>GRP B</td>\n",
       "      <td>I</td>\n",
       "    </tr>\n",
       "    <tr>\n",
       "      <th>1</th>\n",
       "      <td>11122053</td>\n",
       "      <td>USA</td>\n",
       "      <td>M</td>\n",
       "      <td>498</td>\n",
       "      <td>2</td>\n",
       "      <td>2017-07-14</td>\n",
       "      <td>GRP B</td>\n",
       "      <td>I</td>\n",
       "    </tr>\n",
       "    <tr>\n",
       "      <th>2</th>\n",
       "      <td>11128688</td>\n",
       "      <td>USA</td>\n",
       "      <td>F</td>\n",
       "      <td>2394</td>\n",
       "      <td>6</td>\n",
       "      <td>2017-09-17</td>\n",
       "      <td>GRP A</td>\n",
       "      <td>I</td>\n",
       "    </tr>\n",
       "    <tr>\n",
       "      <th>3</th>\n",
       "      <td>11130578</td>\n",
       "      <td>USA</td>\n",
       "      <td>F</td>\n",
       "      <td>1197</td>\n",
       "      <td>3</td>\n",
       "      <td>2017-11-30</td>\n",
       "      <td>GRP A</td>\n",
       "      <td>I</td>\n",
       "    </tr>\n",
       "    <tr>\n",
       "      <th>4</th>\n",
       "      <td>11130759</td>\n",
       "      <td>ESP</td>\n",
       "      <td>M</td>\n",
       "      <td>1297</td>\n",
       "      <td>3</td>\n",
       "      <td>2018-01-10</td>\n",
       "      <td>GRP B</td>\n",
       "      <td>A</td>\n",
       "    </tr>\n",
       "  </tbody>\n",
       "</table>\n",
       "</div>"
      ],
      "text/plain": [
       "        uid country gender  spent  purchases       date  group device\n",
       "0  11115722     MEX      F   1595          5 2016-03-08  GRP B      I\n",
       "1  11122053     USA      M    498          2 2017-07-14  GRP B      I\n",
       "2  11128688     USA      F   2394          6 2017-09-17  GRP A      I\n",
       "3  11130578     USA      F   1197          3 2017-11-30  GRP A      I\n",
       "4  11130759     ESP      M   1297          3 2018-01-10  GRP B      A"
      ]
     },
     "execution_count": 40,
     "metadata": {},
     "output_type": "execute_result"
    }
   ],
   "source": [
    "df_raw.head()"
   ]
  },
  {
   "cell_type": "markdown",
   "metadata": {},
   "source": [
    "# 2.0 Design de Experimentos"
   ]
  },
  {
   "cell_type": "markdown",
   "metadata": {},
   "source": [
    "## 2.1 Formação das Hipóteses"
   ]
  },
  {
   "cell_type": "markdown",
   "metadata": {},
   "source": [
    "O entregável do seu trabalho é o seguinte:\n",
    "1. Qual a melhor forma de pagamento: Preenchimento Manual ou Automático do formulário de dados do cartão de crédito?"
   ]
  },
  {
   "cell_type": "markdown",
   "metadata": {},
   "source": [
    "H0: O preenchimento manual  é melhor que o automático, é o sistema que vêm sendo usado e não há dados o suficiente ou uma diferença significativa que prove o contrário <br>\n",
    "H1: O preenchimento automático é melhor forma de pagamento que o manual"
   ]
  },
  {
   "cell_type": "markdown",
   "metadata": {},
   "source": [
    "Para descobrir isso faremos:\n",
    "- Fazer um EDA, ver se falta alguma coisa e como estao as distribuições\n",
    "- Conferir se não há clientes que estão em dois grupos\n",
    "- Conferir os tamanhos dos grupos, se são equilibrados em relação a country, gender e device\n",
    "- Para medir o sucesso da forma de pagamento, utilizeramos a quantidade de clientes que comprou, independente do quanto gastou ou do número de compras\n",
    "- Depois podemos testar usando o valor total do cliente, sendo a multiplicação entre o número de compras e o valor gasto"
   ]
  },
  {
   "cell_type": "markdown",
   "metadata": {},
   "source": [
    "A partir disso respondemos a pergunta de negócio, mas além disso, podemos levar:\n",
    "- Essa hipótese é verdadeira se dividirmos por device?\n",
    "- Essa hipotese é verdadeita se dividirmos por country?"
   ]
  },
  {
   "cell_type": "code",
   "execution_count": null,
   "metadata": {},
   "outputs": [],
   "source": []
  },
  {
   "cell_type": "markdown",
   "metadata": {},
   "source": [
    "# 3.0 EDA"
   ]
  },
  {
   "cell_type": "markdown",
   "metadata": {},
   "source": [
    "## 3.1 Dimensões"
   ]
  },
  {
   "cell_type": "code",
   "execution_count": 36,
   "metadata": {},
   "outputs": [
    {
     "name": "stdout",
     "output_type": "stream",
     "text": [
      "Number of rows: 45883\n",
      "Number of coljmns: 8\n"
     ]
    }
   ],
   "source": [
    "print(f'Number of rows: {df_raw.shape[0]}')\n",
    "print(f'Number of coljmns: {df_raw.shape[1]}')"
   ]
  },
  {
   "cell_type": "markdown",
   "metadata": {},
   "source": [
    "## 3.2 Dados Faltantes"
   ]
  },
  {
   "cell_type": "code",
   "execution_count": 37,
   "metadata": {},
   "outputs": [
    {
     "data": {
      "text/plain": [
       "uid          0\n",
       "country      0\n",
       "gender       0\n",
       "spent        0\n",
       "purchases    0\n",
       "date         0\n",
       "group        0\n",
       "device       0\n",
       "dtype: int64"
      ]
     },
     "execution_count": 37,
     "metadata": {},
     "output_type": "execute_result"
    }
   ],
   "source": [
    "df_raw.isna().sum()\n",
    "#Sem NA"
   ]
  },
  {
   "cell_type": "markdown",
   "metadata": {},
   "source": [
    "# 3.3 Tipos de dados"
   ]
  },
  {
   "cell_type": "code",
   "execution_count": 41,
   "metadata": {},
   "outputs": [
    {
     "data": {
      "text/plain": [
       "uid                   int64\n",
       "country              object\n",
       "gender               object\n",
       "spent                 int64\n",
       "purchases             int64\n",
       "date         datetime64[ns]\n",
       "group                object\n",
       "device               object\n",
       "dtype: object"
      ]
     },
     "execution_count": 41,
     "metadata": {},
     "output_type": "execute_result"
    }
   ],
   "source": [
    "df_raw['date'] = pd.to_datetime(df_raw['date'])\n",
    "df_raw.dtypes"
   ]
  },
  {
   "cell_type": "markdown",
   "metadata": {},
   "source": [
    "## 3.4 Conferir flags"
   ]
  },
  {
   "cell_type": "code",
   "execution_count": 42,
   "metadata": {},
   "outputs": [
    {
     "name": "stdout",
     "output_type": "stream",
     "text": [
      "Não há clientes repetidos\n"
     ]
    }
   ],
   "source": [
    "contagem_clientes = df_raw.loc[:,'uid'].count()\n",
    "clientes_distintos = df_raw.loc[:,'uid'].nunique()\n",
    "if contagem_clientes == clientes_distintos:\n",
    "  print(f'Não há clientes repetidos')\n",
    "else:\n",
    "  print(f'Há clientes que se repetem')"
   ]
  },
  {
   "cell_type": "code",
   "execution_count": 43,
   "metadata": {},
   "outputs": [
    {
     "data": {
      "text/html": [
       "<div>\n",
       "<style scoped>\n",
       "    .dataframe tbody tr th:only-of-type {\n",
       "        vertical-align: middle;\n",
       "    }\n",
       "\n",
       "    .dataframe tbody tr th {\n",
       "        vertical-align: top;\n",
       "    }\n",
       "\n",
       "    .dataframe thead th {\n",
       "        text-align: right;\n",
       "    }\n",
       "</style>\n",
       "<table border=\"1\" class=\"dataframe\">\n",
       "  <thead>\n",
       "    <tr style=\"text-align: right;\">\n",
       "      <th></th>\n",
       "      <th>group</th>\n",
       "      <th>uid</th>\n",
       "    </tr>\n",
       "  </thead>\n",
       "  <tbody>\n",
       "    <tr>\n",
       "      <th>0</th>\n",
       "      <td>GRP A</td>\n",
       "      <td>23009</td>\n",
       "    </tr>\n",
       "    <tr>\n",
       "      <th>1</th>\n",
       "      <td>GRP B</td>\n",
       "      <td>22874</td>\n",
       "    </tr>\n",
       "  </tbody>\n",
       "</table>\n",
       "</div>"
      ],
      "text/plain": [
       "   group    uid\n",
       "0  GRP A  23009\n",
       "1  GRP B  22874"
      ]
     },
     "execution_count": 43,
     "metadata": {},
     "output_type": "execute_result"
    }
   ],
   "source": [
    "df_raw.loc[:,['uid', 'group']].groupby(['group']).count().reset_index()"
   ]
  },
  {
   "cell_type": "code",
   "execution_count": 44,
   "metadata": {},
   "outputs": [
    {
     "data": {
      "text/html": [
       "<div>\n",
       "<style scoped>\n",
       "    .dataframe tbody tr th:only-of-type {\n",
       "        vertical-align: middle;\n",
       "    }\n",
       "\n",
       "    .dataframe tbody tr th {\n",
       "        vertical-align: top;\n",
       "    }\n",
       "\n",
       "    .dataframe thead th {\n",
       "        text-align: right;\n",
       "    }\n",
       "</style>\n",
       "<table border=\"1\" class=\"dataframe\">\n",
       "  <thead>\n",
       "    <tr style=\"text-align: right;\">\n",
       "      <th></th>\n",
       "      <th>group</th>\n",
       "      <th>device</th>\n",
       "      <th>uid</th>\n",
       "    </tr>\n",
       "  </thead>\n",
       "  <tbody>\n",
       "    <tr>\n",
       "      <th>0</th>\n",
       "      <td>GRP A</td>\n",
       "      <td>A</td>\n",
       "      <td>11487</td>\n",
       "    </tr>\n",
       "    <tr>\n",
       "      <th>1</th>\n",
       "      <td>GRP A</td>\n",
       "      <td>I</td>\n",
       "      <td>11522</td>\n",
       "    </tr>\n",
       "    <tr>\n",
       "      <th>2</th>\n",
       "      <td>GRP B</td>\n",
       "      <td>A</td>\n",
       "      <td>11495</td>\n",
       "    </tr>\n",
       "    <tr>\n",
       "      <th>3</th>\n",
       "      <td>GRP B</td>\n",
       "      <td>I</td>\n",
       "      <td>11379</td>\n",
       "    </tr>\n",
       "  </tbody>\n",
       "</table>\n",
       "</div>"
      ],
      "text/plain": [
       "   group device    uid\n",
       "0  GRP A      A  11487\n",
       "1  GRP A      I  11522\n",
       "2  GRP B      A  11495\n",
       "3  GRP B      I  11379"
      ]
     },
     "execution_count": 44,
     "metadata": {},
     "output_type": "execute_result"
    }
   ],
   "source": [
    "df_raw.loc[:,['uid', 'group', 'device']].groupby(['group', 'device']).count().reset_index()"
   ]
  },
  {
   "cell_type": "markdown",
   "metadata": {},
   "source": [
    "## 3.5 Estatística Descritiva"
   ]
  },
  {
   "cell_type": "markdown",
   "metadata": {},
   "source": [
    "### 3.5 Variáveis numéricas"
   ]
  },
  {
   "cell_type": "code",
   "execution_count": 78,
   "metadata": {},
   "outputs": [],
   "source": [
    "#Separando os tipos de tipos das colunas entre numéricas e categóricas\n",
    "num_atrr = df_raw.select_dtypes(include=['int64','float64'])\n",
    "cat_atrr = df_raw.select_dtypes(exclude=['int64','float64','datetime64[ns]'])\n",
    "\n",
    "df_A = df_raw.loc[df_raw['group'] == 'GRP A',:]\n",
    "df_B = df_raw.loc[df_raw['group'] == 'GRP B',:]"
   ]
  },
  {
   "cell_type": "code",
   "execution_count": 79,
   "metadata": {},
   "outputs": [
    {
     "data": {
      "text/html": [
       "<div>\n",
       "<style scoped>\n",
       "    .dataframe tbody tr th:only-of-type {\n",
       "        vertical-align: middle;\n",
       "    }\n",
       "\n",
       "    .dataframe tbody tr th {\n",
       "        vertical-align: top;\n",
       "    }\n",
       "\n",
       "    .dataframe thead th {\n",
       "        text-align: right;\n",
       "    }\n",
       "</style>\n",
       "<table border=\"1\" class=\"dataframe\">\n",
       "  <thead>\n",
       "    <tr style=\"text-align: right;\">\n",
       "      <th></th>\n",
       "      <th>attributes</th>\n",
       "      <th>min</th>\n",
       "      <th>max</th>\n",
       "      <th>range</th>\n",
       "      <th>mean</th>\n",
       "      <th>median</th>\n",
       "      <th>std</th>\n",
       "      <th>skew</th>\n",
       "      <th>kustosis</th>\n",
       "    </tr>\n",
       "  </thead>\n",
       "  <tbody>\n",
       "    <tr>\n",
       "      <th>0</th>\n",
       "      <td>uid</td>\n",
       "      <td>11115722.0</td>\n",
       "      <td>99999383.0</td>\n",
       "      <td>88883661.0</td>\n",
       "      <td>5.544232e+07</td>\n",
       "      <td>55312026.0</td>\n",
       "      <td>2.558651e+07</td>\n",
       "      <td>0.007913</td>\n",
       "      <td>-1.190403</td>\n",
       "    </tr>\n",
       "    <tr>\n",
       "      <th>1</th>\n",
       "      <td>spent</td>\n",
       "      <td>99.0</td>\n",
       "      <td>12170.0</td>\n",
       "      <td>12071.0</td>\n",
       "      <td>1.883453e+03</td>\n",
       "      <td>1596.0</td>\n",
       "      <td>1.363907e+03</td>\n",
       "      <td>1.365817</td>\n",
       "      <td>2.627362</td>\n",
       "    </tr>\n",
       "    <tr>\n",
       "      <th>2</th>\n",
       "      <td>purchases</td>\n",
       "      <td>1.0</td>\n",
       "      <td>30.0</td>\n",
       "      <td>29.0</td>\n",
       "      <td>4.544385e+00</td>\n",
       "      <td>4.0</td>\n",
       "      <td>3.102420e+00</td>\n",
       "      <td>1.348301</td>\n",
       "      <td>2.562334</td>\n",
       "    </tr>\n",
       "  </tbody>\n",
       "</table>\n",
       "</div>"
      ],
      "text/plain": [
       "  attributes         min         max       range          mean      median  \\\n",
       "0        uid  11115722.0  99999383.0  88883661.0  5.544232e+07  55312026.0   \n",
       "1      spent        99.0     12170.0     12071.0  1.883453e+03      1596.0   \n",
       "2  purchases         1.0        30.0        29.0  4.544385e+00         4.0   \n",
       "\n",
       "            std      skew  kustosis  \n",
       "0  2.558651e+07  0.007913 -1.190403  \n",
       "1  1.363907e+03  1.365817  2.627362  \n",
       "2  3.102420e+00  1.348301  2.562334  "
      ]
     },
     "execution_count": 79,
     "metadata": {},
     "output_type": "execute_result"
    }
   ],
   "source": [
    "# Ter uma noção geral das métricas do negócio\n",
    "# Central Tendency = mean, median\n",
    "ct1 = pd.DataFrame(num_atrr.apply(np.mean)).T\n",
    "ct2 = pd.DataFrame(num_atrr.apply(np.median)).T\n",
    "\n",
    "# Dispersion = std, min, max, range, skew, kurtosis\n",
    "d1 = pd.DataFrame(num_atrr.apply(np.std)).T\n",
    "d2 = pd.DataFrame(num_atrr.apply(np.min)).T\n",
    "d3 = pd.DataFrame(num_atrr.apply(np.max)).T\n",
    "d4 = pd.DataFrame(num_atrr.apply(lambda x: x.max() - x.min())).T\n",
    "d5 = pd.DataFrame(num_atrr.apply(lambda x: x.skew())).T\n",
    "d6 = pd.DataFrame(num_atrr.apply(lambda x: x.kurtosis())).T\n",
    "\n",
    "#Concaterando as métricas\n",
    "m = pd.concat([d2,d3,d4,ct1,ct2,d1,d5,d6]).T.reset_index()\n",
    "m.columns = ['attributes','min','max','range','mean','median','std','skew','kustosis']\n",
    "m"
   ]
  },
  {
   "cell_type": "code",
   "execution_count": 80,
   "metadata": {},
   "outputs": [
    {
     "data": {
      "image/png": "[encoded data removed]",
      "text/plain": [
       "<Figure size 640x480 with 4 Axes>"
      ]
     },
     "metadata": {},
     "output_type": "display_data"
    }
   ],
   "source": [
    "num_atrr.hist(bins = 25);"
   ]
  },
  {
   "cell_type": "markdown",
   "metadata": {},
   "source": [
    "Sem anormalidades nas distribuições de compras e valor gasto"
   ]
  },
  {
   "cell_type": "markdown",
   "metadata": {},
   "source": [
    "## 3.6 Variáveis categóricas"
   ]
  },
  {
   "cell_type": "markdown",
   "metadata": {},
   "source": [
    "### 3.6.1 Distribuição de country por grupo"
   ]
  },
  {
   "cell_type": "code",
   "execution_count": 81,
   "metadata": {},
   "outputs": [
    {
     "data": {
      "text/html": [
       "<div>\n",
       "<style scoped>\n",
       "    .dataframe tbody tr th:only-of-type {\n",
       "        vertical-align: middle;\n",
       "    }\n",
       "\n",
       "    .dataframe tbody tr th {\n",
       "        vertical-align: top;\n",
       "    }\n",
       "\n",
       "    .dataframe thead th {\n",
       "        text-align: right;\n",
       "    }\n",
       "</style>\n",
       "<table border=\"1\" class=\"dataframe\">\n",
       "  <thead>\n",
       "    <tr style=\"text-align: right;\">\n",
       "      <th></th>\n",
       "      <th>country</th>\n",
       "      <th>GRUPO A (%)</th>\n",
       "      <th>GRUPO B (%)</th>\n",
       "      <th>dif</th>\n",
       "    </tr>\n",
       "  </thead>\n",
       "  <tbody>\n",
       "    <tr>\n",
       "      <th>0</th>\n",
       "      <td>USA</td>\n",
       "      <td>30.105611</td>\n",
       "      <td>30.912827</td>\n",
       "      <td>-0.807216</td>\n",
       "    </tr>\n",
       "    <tr>\n",
       "      <th>1</th>\n",
       "      <td>BRA</td>\n",
       "      <td>19.635795</td>\n",
       "      <td>19.633645</td>\n",
       "      <td>0.002150</td>\n",
       "    </tr>\n",
       "    <tr>\n",
       "      <th>2</th>\n",
       "      <td>MEX</td>\n",
       "      <td>12.542918</td>\n",
       "      <td>11.550232</td>\n",
       "      <td>0.992686</td>\n",
       "    </tr>\n",
       "    <tr>\n",
       "      <th>3</th>\n",
       "      <td>DEU</td>\n",
       "      <td>8.214177</td>\n",
       "      <td>7.895427</td>\n",
       "      <td>0.318750</td>\n",
       "    </tr>\n",
       "    <tr>\n",
       "      <th>4</th>\n",
       "      <td>TUR</td>\n",
       "      <td>7.801295</td>\n",
       "      <td>7.615633</td>\n",
       "      <td>0.185662</td>\n",
       "    </tr>\n",
       "    <tr>\n",
       "      <th>5</th>\n",
       "      <td>FRA</td>\n",
       "      <td>6.227998</td>\n",
       "      <td>6.159832</td>\n",
       "      <td>0.068166</td>\n",
       "    </tr>\n",
       "    <tr>\n",
       "      <th>6</th>\n",
       "      <td>GBR</td>\n",
       "      <td>6.023730</td>\n",
       "      <td>6.221037</td>\n",
       "      <td>-0.197307</td>\n",
       "    </tr>\n",
       "    <tr>\n",
       "      <th>7</th>\n",
       "      <td>ESP</td>\n",
       "      <td>4.215742</td>\n",
       "      <td>4.214392</td>\n",
       "      <td>0.001350</td>\n",
       "    </tr>\n",
       "    <tr>\n",
       "      <th>8</th>\n",
       "      <td>CAN</td>\n",
       "      <td>3.033596</td>\n",
       "      <td>3.562997</td>\n",
       "      <td>-0.529402</td>\n",
       "    </tr>\n",
       "    <tr>\n",
       "      <th>9</th>\n",
       "      <td>AUS</td>\n",
       "      <td>2.199139</td>\n",
       "      <td>2.233977</td>\n",
       "      <td>-0.034838</td>\n",
       "    </tr>\n",
       "  </tbody>\n",
       "</table>\n",
       "</div>"
      ],
      "text/plain": [
       "  country  GRUPO A (%)  GRUPO B (%)       dif\n",
       "0     USA    30.105611    30.912827 -0.807216\n",
       "1     BRA    19.635795    19.633645  0.002150\n",
       "2     MEX    12.542918    11.550232  0.992686\n",
       "3     DEU     8.214177     7.895427  0.318750\n",
       "4     TUR     7.801295     7.615633  0.185662\n",
       "5     FRA     6.227998     6.159832  0.068166\n",
       "6     GBR     6.023730     6.221037 -0.197307\n",
       "7     ESP     4.215742     4.214392  0.001350\n",
       "8     CAN     3.033596     3.562997 -0.529402\n",
       "9     AUS     2.199139     2.233977 -0.034838"
      ]
     },
     "execution_count": 81,
     "metadata": {},
     "output_type": "execute_result"
    }
   ],
   "source": [
    "country_A = df_A['country'].value_counts(normalize=True).reset_index()\n",
    "country_A.columns = ['country','GRUPO A (%)']\n",
    "\n",
    "country_B = df_B['country'].value_counts(normalize=True).reset_index()\n",
    "country_B.columns = ['country','GRUPO B (%)']\n",
    "\n",
    "country_total = pd.merge(country_A,country_B,on='country',how='left')\n",
    "country_total['dif'] = country_total['GRUPO A (%)'] - country_total['GRUPO B (%)']\n",
    "country_total['dif'] = country_total['dif']*100\n",
    "country_total['GRUPO B (%)'] = country_total['GRUPO B (%)']*100\n",
    "country_total['GRUPO A (%)'] = country_total['GRUPO A (%)']*100\n",
    "country_total"
   ]
  },
  {
   "cell_type": "markdown",
   "metadata": {},
   "source": [
    "### 3.6.2 Distribuição de gender por grupo"
   ]
  },
  {
   "cell_type": "code",
   "execution_count": 82,
   "metadata": {},
   "outputs": [
    {
     "data": {
      "text/html": [
       "<div>\n",
       "<style scoped>\n",
       "    .dataframe tbody tr th:only-of-type {\n",
       "        vertical-align: middle;\n",
       "    }\n",
       "\n",
       "    .dataframe tbody tr th {\n",
       "        vertical-align: top;\n",
       "    }\n",
       "\n",
       "    .dataframe thead th {\n",
       "        text-align: right;\n",
       "    }\n",
       "</style>\n",
       "<table border=\"1\" class=\"dataframe\">\n",
       "  <thead>\n",
       "    <tr style=\"text-align: right;\">\n",
       "      <th></th>\n",
       "      <th>gender</th>\n",
       "      <th>GRUPO A (%)</th>\n",
       "      <th>GRUPO B (%)</th>\n",
       "      <th>dif</th>\n",
       "    </tr>\n",
       "  </thead>\n",
       "  <tbody>\n",
       "    <tr>\n",
       "      <th>0</th>\n",
       "      <td>M</td>\n",
       "      <td>50.580208</td>\n",
       "      <td>50.179243</td>\n",
       "      <td>0.400965</td>\n",
       "    </tr>\n",
       "    <tr>\n",
       "      <th>1</th>\n",
       "      <td>F</td>\n",
       "      <td>49.419792</td>\n",
       "      <td>49.820757</td>\n",
       "      <td>-0.400965</td>\n",
       "    </tr>\n",
       "  </tbody>\n",
       "</table>\n",
       "</div>"
      ],
      "text/plain": [
       "  gender  GRUPO A (%)  GRUPO B (%)       dif\n",
       "0      M    50.580208    50.179243  0.400965\n",
       "1      F    49.419792    49.820757 -0.400965"
      ]
     },
     "execution_count": 82,
     "metadata": {},
     "output_type": "execute_result"
    }
   ],
   "source": [
    "gender_A = df_A['gender'].value_counts(normalize=True).reset_index()\n",
    "gender_A.columns = ['gender','GRUPO A (%)']\n",
    "\n",
    "gender_B = df_B['gender'].value_counts(normalize=True).reset_index()\n",
    "gender_B.columns = ['gender','GRUPO B (%)']\n",
    "\n",
    "gender_total = pd.merge(gender_A,gender_B,on='gender',how='left')\n",
    "gender_total['dif'] = gender_total['GRUPO A (%)'] - gender_total['GRUPO B (%)']\n",
    "gender_total['dif'] = gender_total['dif']*100\n",
    "gender_total['GRUPO B (%)'] = gender_total['GRUPO B (%)']*100\n",
    "gender_total['GRUPO A (%)'] = gender_total['GRUPO A (%)']*100\n",
    "gender_total"
   ]
  },
  {
   "cell_type": "markdown",
   "metadata": {},
   "source": [
    "### 3.6.3 Distribuição de device por grupo"
   ]
  },
  {
   "cell_type": "code",
   "execution_count": 83,
   "metadata": {},
   "outputs": [
    {
     "data": {
      "text/html": [
       "<div>\n",
       "<style scoped>\n",
       "    .dataframe tbody tr th:only-of-type {\n",
       "        vertical-align: middle;\n",
       "    }\n",
       "\n",
       "    .dataframe tbody tr th {\n",
       "        vertical-align: top;\n",
       "    }\n",
       "\n",
       "    .dataframe thead th {\n",
       "        text-align: right;\n",
       "    }\n",
       "</style>\n",
       "<table border=\"1\" class=\"dataframe\">\n",
       "  <thead>\n",
       "    <tr style=\"text-align: right;\">\n",
       "      <th></th>\n",
       "      <th>device</th>\n",
       "      <th>GRUPO A (%)</th>\n",
       "      <th>GRUPO B (%)</th>\n",
       "      <th>dif</th>\n",
       "    </tr>\n",
       "  </thead>\n",
       "  <tbody>\n",
       "    <tr>\n",
       "      <th>0</th>\n",
       "      <td>I</td>\n",
       "      <td>50.076057</td>\n",
       "      <td>49.746437</td>\n",
       "      <td>0.32962</td>\n",
       "    </tr>\n",
       "    <tr>\n",
       "      <th>1</th>\n",
       "      <td>A</td>\n",
       "      <td>49.923943</td>\n",
       "      <td>50.253563</td>\n",
       "      <td>-0.32962</td>\n",
       "    </tr>\n",
       "  </tbody>\n",
       "</table>\n",
       "</div>"
      ],
      "text/plain": [
       "  device  GRUPO A (%)  GRUPO B (%)      dif\n",
       "0      I    50.076057    49.746437  0.32962\n",
       "1      A    49.923943    50.253563 -0.32962"
      ]
     },
     "execution_count": 83,
     "metadata": {},
     "output_type": "execute_result"
    }
   ],
   "source": [
    "device_A = df_A['device'].value_counts(normalize=True).reset_index()\n",
    "device_A.columns = ['device','GRUPO A (%)']\n",
    "\n",
    "device_B = df_B['device'].value_counts(normalize=True).reset_index()\n",
    "device_B.columns = ['device','GRUPO B (%)']\n",
    "\n",
    "device_total = pd.merge(device_A,device_B,on='device',how='left')\n",
    "device_total['dif'] = device_total['GRUPO A (%)'] - device_total['GRUPO B (%)']\n",
    "device_total['dif'] = device_total['dif']*100\n",
    "device_total['GRUPO B (%)'] = device_total['GRUPO B (%)']*100\n",
    "device_total['GRUPO A (%)'] = device_total['GRUPO A (%)']*100\n",
    "device_total"
   ]
  },
  {
   "cell_type": "markdown",
   "metadata": {},
   "source": [
    "# 4.0 Parâmetros do experimento"
   ]
  },
  {
   "cell_type": "code",
   "execution_count": 90,
   "metadata": {},
   "outputs": [
    {
     "name": "stdout",
     "output_type": "stream",
     "text": [
      "O número de clientes que estavam no Grupo A e compraram foi de: 23009 clientes\n",
      "O número de clientes que estavam no Grupo B e compraram foi de: 22874 clientes\n",
      "\n",
      "Essa diferença é significativa para dizer que o Preenchimento Automático é melhor que o manual?\n"
     ]
    }
   ],
   "source": [
    "count_A = df_A['uid'].count()\n",
    "print(f'O número de clientes que estavam no Grupo A e compraram foi de: {count_A} clientes')\n",
    "\n",
    "count_B = df_B['uid'].count()\n",
    "print(f'O número de clientes que estavam no Grupo B e compraram foi de: {count_B} clientes')\n",
    "\n",
    "print(f'\\nEssa diferença é significativa para dizer que o Preenchimento Automático é melhor que o manual?')"
   ]
  },
  {
   "cell_type": "markdown",
   "metadata": {},
   "source": [
    "Como não tenho o effect Size e as amostras são muito parecidas entre si, vamos considerar que todos os dados são as amostras"
   ]
  },
  {
   "cell_type": "code",
   "execution_count": 107,
   "metadata": {},
   "outputs": [
    {
     "name": "stdout",
     "output_type": "stream",
     "text": [
      "p-value:0.61\n",
      "Falha em rejeitar a hipótese nula\n"
     ]
    }
   ],
   "source": [
    "#Teste de Hipóteses\n",
    "df_table = df_raw[['group','uid']].groupby('group').count()\n",
    "df_table['total'] = df_raw['uid'].count()\n",
    "\n",
    "chi_val,pval,dof,expected = chi2_contingency(df_table)\n",
    "print(f'p-value:{round(pval,2)}')\n",
    "\n",
    "if pval < 0.05:\n",
    "  print(f'Rejeita a hipótese nula')\n",
    "else:\n",
    "  print(f'Falha em rejeitar a hipótese nula')"
   ]
  },
  {
   "cell_type": "code",
   "execution_count": 106,
   "metadata": {},
   "outputs": [
    {
     "data": {
      "text/html": [
       "<div>\n",
       "<style scoped>\n",
       "    .dataframe tbody tr th:only-of-type {\n",
       "        vertical-align: middle;\n",
       "    }\n",
       "\n",
       "    .dataframe tbody tr th {\n",
       "        vertical-align: top;\n",
       "    }\n",
       "\n",
       "    .dataframe thead th {\n",
       "        text-align: right;\n",
       "    }\n",
       "</style>\n",
       "<table border=\"1\" class=\"dataframe\">\n",
       "  <thead>\n",
       "    <tr style=\"text-align: right;\">\n",
       "      <th></th>\n",
       "      <th>uid</th>\n",
       "      <th>total</th>\n",
       "    </tr>\n",
       "    <tr>\n",
       "      <th>group</th>\n",
       "      <th></th>\n",
       "      <th></th>\n",
       "    </tr>\n",
       "  </thead>\n",
       "  <tbody>\n",
       "    <tr>\n",
       "      <th>GRP A</th>\n",
       "      <td>23009</td>\n",
       "      <td>45883</td>\n",
       "    </tr>\n",
       "    <tr>\n",
       "      <th>GRP B</th>\n",
       "      <td>22874</td>\n",
       "      <td>45883</td>\n",
       "    </tr>\n",
       "  </tbody>\n",
       "</table>\n",
       "</div>"
      ],
      "text/plain": [
       "         uid  total\n",
       "group              \n",
       "GRP A  23009  45883\n",
       "GRP B  22874  45883"
      ]
     },
     "execution_count": 106,
     "metadata": {},
     "output_type": "execute_result"
    }
   ],
   "source": [
    "df_table = df_raw[['group','uid']].groupby('group').count()\n",
    "df_table['total'] = df_raw['uid'].count()\n",
    "df_table"
   ]
  },
  {
   "cell_type": "code",
   "execution_count": null,
   "metadata": {},
   "outputs": [],
   "source": []
  }
 ],
 "metadata": {
  "kernelspec": {
   "display_name": "a_b",
   "language": "python",
   "name": "python3"
  },
  "language_info": {
   "codemirror_mode": {
    "name": "ipython",
    "version": 3
   },
   "file_extension": ".py",
   "mimetype": "text/x-python",
   "name": "python",
   "nbconvert_exporter": "python",
   "pygments_lexer": "ipython3",
   "version": "3.10.11"
  }
 },
 "nbformat": 4,
 "nbformat_minor": 2
}
