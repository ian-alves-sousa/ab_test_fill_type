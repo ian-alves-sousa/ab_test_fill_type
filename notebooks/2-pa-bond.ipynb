{
 "cells": [
  {
   "cell_type": "markdown",
   "metadata": {},
   "source": [
    "# AB Testing Course - PA Bond"
   ]
  },
  {
   "cell_type": "code",
   "execution_count": 4,
   "metadata": {},
   "outputs": [],
   "source": [
    "import pandas as pd\n",
    "import numpy as np\n",
    "import math\n",
    "from statsmodels.stats import api as sms\n",
    "from statsmodels.stats.multicomp import pairwise_tukeyhsd\n",
    "from scipy.stats import ttest_1samp,shapiro,ttest_ind,mannwhitneyu,f_oneway,chi2_contingency\n",
    "import seaborn as sns\n",
    "from matplotlib            import pyplot as plt\n",
    "import pingouin as pg"
   ]
  },
  {
   "cell_type": "markdown",
   "metadata": {},
   "source": [
    "## 0.0 Planejamento"
   ]
  },
  {
   "cell_type": "markdown",
   "metadata": {},
   "source": [
    "## 1.0 Design do Experimento"
   ]
  },
  {
   "cell_type": "code",
   "execution_count": null,
   "metadata": {},
   "outputs": [],
   "source": [
    "# Imagina que o experimento ainda não aconteceu, então desenhamos ele como deveria acontecer\n",
    "\n",
    "# Objetivo: Definir se o preenchumento automático da página de checkout é melhor do que o preenchimento manual\n",
    "# Para escolher a métrica de sucesso é interessante trabalhar com algo que não apresenta um alto desvio padrão, pois isso pode influenciar no tamanho da amostra que precisa, o melhor é trabalhar com a conversão, se não tem, o número de compra e por fim o faturamento\n",
    "# Métrica com dispersão naturalmente menor\n",
    "# Conversão - (0 - 1)\n",
    "# Compras - (0 - Unidades)\n",
    "# GMV - (0 - Valor)\n",
    "# Métrica: GMV (Gross Margin Revenue) Médio\n",
    "\n",
    "# Grupo A = Preenchimento automático\n",
    "# Grupo B = Preenchimento manual"
   ]
  },
  {
   "cell_type": "markdown",
   "metadata": {},
   "source": [
    "### 1.1 Hipótese do Experimento"
   ]
  },
  {
   "cell_type": "markdown",
   "metadata": {},
   "source": [
    "H0: Avg GMV A = Avg GMV B <br>\n",
    "H1: Avg GMV A <> Avg GMV B"
   ]
  },
  {
   "cell_type": "markdown",
   "metadata": {},
   "source": [
    "### 1.2 Definir o tamanho da amostra"
   ]
  },
  {
   "cell_type": "code",
   "execution_count": 109,
   "metadata": {},
   "outputs": [
    {
     "name": "stdout",
     "output_type": "stream",
     "text": [
      "763\n"
     ]
    }
   ],
   "source": [
    "p1 = 0.75\n",
    "p2 = 0.80\n",
    "\n",
    "#init_metric - métrica atual (média do gmv, média de vendas)\n",
    "#end_metric - lift da métrica (5% sobre a métrica atual)\n",
    "#std_metric - Desvio padrão dos valores\n",
    "# lift = 0.05\n",
    "# init_metric = 1902.86\n",
    "# end_metric = init_metric*(1+lift)\n",
    "# std_metric = 1398.89 \n",
    "\n",
    "lift = 0.1\n",
    "init_metric = 1874.18\n",
    "end_metric = init_metric*(1+lift)\n",
    "std_metric = 1305.25\n",
    "\n",
    "\n",
    "#quanto maior, maior é a região de incerteza, o que tende a aumentar o número de amostras que precisa para provar o efeito\n",
    "\n",
    "effect_size = (end_metric - init_metric)/std_metric\n",
    "\n",
    "sample_size = np.ceil(sms.tt_ind_solve_power(\n",
    "  effect_size = effect_size,\n",
    "  alpha = 0.05,\n",
    "  power = 0.8\n",
    ")).astype(int)\n",
    "\n",
    "print(sample_size)"
   ]
  },
  {
   "cell_type": "markdown",
   "metadata": {},
   "source": [
    "## 2.0 Preparação dos dados"
   ]
  },
  {
   "cell_type": "markdown",
   "metadata": {},
   "source": [
    "### 2.1 Loading Data"
   ]
  },
  {
   "cell_type": "code",
   "execution_count": 110,
   "metadata": {},
   "outputs": [],
   "source": [
    "df_raw = pd.read_csv('../data/ab_testing.csv')"
   ]
  },
  {
   "cell_type": "code",
   "execution_count": 111,
   "metadata": {},
   "outputs": [
    {
     "data": {
      "text/html": [
       "<div>\n",
       "<style scoped>\n",
       "    .dataframe tbody tr th:only-of-type {\n",
       "        vertical-align: middle;\n",
       "    }\n",
       "\n",
       "    .dataframe tbody tr th {\n",
       "        vertical-align: top;\n",
       "    }\n",
       "\n",
       "    .dataframe thead th {\n",
       "        text-align: right;\n",
       "    }\n",
       "</style>\n",
       "<table border=\"1\" class=\"dataframe\">\n",
       "  <thead>\n",
       "    <tr style=\"text-align: right;\">\n",
       "      <th></th>\n",
       "      <th>uid</th>\n",
       "      <th>country</th>\n",
       "      <th>gender</th>\n",
       "      <th>spent</th>\n",
       "      <th>purchases</th>\n",
       "      <th>date</th>\n",
       "      <th>group</th>\n",
       "      <th>device</th>\n",
       "    </tr>\n",
       "  </thead>\n",
       "  <tbody>\n",
       "    <tr>\n",
       "      <th>4</th>\n",
       "      <td>11130759</td>\n",
       "      <td>ESP</td>\n",
       "      <td>M</td>\n",
       "      <td>1297</td>\n",
       "      <td>3</td>\n",
       "      <td>2018-01-10</td>\n",
       "      <td>GRP B</td>\n",
       "      <td>A</td>\n",
       "    </tr>\n",
       "    <tr>\n",
       "      <th>17</th>\n",
       "      <td>11149952</td>\n",
       "      <td>ESP</td>\n",
       "      <td>M</td>\n",
       "      <td>398</td>\n",
       "      <td>2</td>\n",
       "      <td>2017-02-02</td>\n",
       "      <td>GRP A</td>\n",
       "      <td>A</td>\n",
       "    </tr>\n",
       "    <tr>\n",
       "      <th>40</th>\n",
       "      <td>11183968</td>\n",
       "      <td>ESP</td>\n",
       "      <td>M</td>\n",
       "      <td>996</td>\n",
       "      <td>4</td>\n",
       "      <td>2016-04-01</td>\n",
       "      <td>GRP A</td>\n",
       "      <td>A</td>\n",
       "    </tr>\n",
       "    <tr>\n",
       "      <th>45</th>\n",
       "      <td>11193748</td>\n",
       "      <td>ESP</td>\n",
       "      <td>M</td>\n",
       "      <td>299</td>\n",
       "      <td>1</td>\n",
       "      <td>2016-10-11</td>\n",
       "      <td>GRP A</td>\n",
       "      <td>A</td>\n",
       "    </tr>\n",
       "    <tr>\n",
       "      <th>47</th>\n",
       "      <td>11199766</td>\n",
       "      <td>ESP</td>\n",
       "      <td>F</td>\n",
       "      <td>199</td>\n",
       "      <td>1</td>\n",
       "      <td>2017-05-04</td>\n",
       "      <td>GRP A</td>\n",
       "      <td>A</td>\n",
       "    </tr>\n",
       "  </tbody>\n",
       "</table>\n",
       "</div>"
      ],
      "text/plain": [
       "         uid country gender  spent  purchases        date  group device\n",
       "4   11130759     ESP      M   1297          3  2018-01-10  GRP B      A\n",
       "17  11149952     ESP      M    398          2  2017-02-02  GRP A      A\n",
       "40  11183968     ESP      M    996          4  2016-04-01  GRP A      A\n",
       "45  11193748     ESP      M    299          1  2016-10-11  GRP A      A\n",
       "47  11199766     ESP      F    199          1  2017-05-04  GRP A      A"
      ]
     },
     "execution_count": 111,
     "metadata": {},
     "output_type": "execute_result"
    }
   ],
   "source": [
    "country = 'ESP'\n",
    "df2 = df_raw.loc[df_raw['country'] == country,:]\n",
    "df2.head()"
   ]
  },
  {
   "cell_type": "markdown",
   "metadata": {},
   "source": [
    "### 2.2 Descriptive Statistics"
   ]
  },
  {
   "cell_type": "code",
   "execution_count": 112,
   "metadata": {},
   "outputs": [
    {
     "name": "stdout",
     "output_type": "stream",
     "text": [
      "Number of rows: 1934\n",
      "Number of columns: 8\n"
     ]
    }
   ],
   "source": [
    "print(f'Number of rows: {df2.shape[0]}')\n",
    "print(f'Number of columns: {df2.shape[1]}')"
   ]
  },
  {
   "cell_type": "code",
   "execution_count": 113,
   "metadata": {},
   "outputs": [
    {
     "data": {
      "text/html": [
       "<div>\n",
       "<style scoped>\n",
       "    .dataframe tbody tr th:only-of-type {\n",
       "        vertical-align: middle;\n",
       "    }\n",
       "\n",
       "    .dataframe tbody tr th {\n",
       "        vertical-align: top;\n",
       "    }\n",
       "\n",
       "    .dataframe thead th {\n",
       "        text-align: right;\n",
       "    }\n",
       "</style>\n",
       "<table border=\"1\" class=\"dataframe\">\n",
       "  <thead>\n",
       "    <tr style=\"text-align: right;\">\n",
       "      <th></th>\n",
       "      <th>group</th>\n",
       "      <th>uid</th>\n",
       "    </tr>\n",
       "  </thead>\n",
       "  <tbody>\n",
       "    <tr>\n",
       "      <th>0</th>\n",
       "      <td>GRP A</td>\n",
       "      <td>970</td>\n",
       "    </tr>\n",
       "    <tr>\n",
       "      <th>1</th>\n",
       "      <td>GRP B</td>\n",
       "      <td>964</td>\n",
       "    </tr>\n",
       "  </tbody>\n",
       "</table>\n",
       "</div>"
      ],
      "text/plain": [
       "   group  uid\n",
       "0  GRP A  970\n",
       "1  GRP B  964"
      ]
     },
     "execution_count": 113,
     "metadata": {},
     "output_type": "execute_result"
    }
   ],
   "source": [
    "df2.loc[:,['uid','group']].groupby('group').count().reset_index()"
   ]
  },
  {
   "cell_type": "code",
   "execution_count": 114,
   "metadata": {},
   "outputs": [
    {
     "data": {
      "text/plain": [
       "mean    1874.184592\n",
       "std     1305.259136\n",
       "Name: spent, dtype: float64"
      ]
     },
     "execution_count": 114,
     "metadata": {},
     "output_type": "execute_result"
    }
   ],
   "source": [
    "df2.loc[:,'spent'].agg(['mean','std'])"
   ]
  },
  {
   "cell_type": "markdown",
   "metadata": {},
   "source": [
    "#### 2.2.1 Check NA"
   ]
  },
  {
   "cell_type": "code",
   "execution_count": 115,
   "metadata": {},
   "outputs": [
    {
     "data": {
      "text/plain": [
       "uid          0\n",
       "country      0\n",
       "gender       0\n",
       "spent        0\n",
       "purchases    0\n",
       "date         0\n",
       "group        0\n",
       "device       0\n",
       "dtype: int64"
      ]
     },
     "execution_count": 115,
     "metadata": {},
     "output_type": "execute_result"
    }
   ],
   "source": [
    "df2.isna().sum()"
   ]
  },
  {
   "cell_type": "markdown",
   "metadata": {},
   "source": [
    "#### 2.2.2 Check Unidade Experimental (pessoas)"
   ]
  },
  {
   "cell_type": "code",
   "execution_count": 116,
   "metadata": {},
   "outputs": [
    {
     "data": {
      "text/html": [
       "<div>\n",
       "<style scoped>\n",
       "    .dataframe tbody tr th:only-of-type {\n",
       "        vertical-align: middle;\n",
       "    }\n",
       "\n",
       "    .dataframe tbody tr th {\n",
       "        vertical-align: top;\n",
       "    }\n",
       "\n",
       "    .dataframe thead th {\n",
       "        text-align: right;\n",
       "    }\n",
       "</style>\n",
       "<table border=\"1\" class=\"dataframe\">\n",
       "  <thead>\n",
       "    <tr style=\"text-align: right;\">\n",
       "      <th></th>\n",
       "      <th>uid</th>\n",
       "      <th>group</th>\n",
       "    </tr>\n",
       "  </thead>\n",
       "  <tbody>\n",
       "  </tbody>\n",
       "</table>\n",
       "</div>"
      ],
      "text/plain": [
       "Empty DataFrame\n",
       "Columns: [uid, group]\n",
       "Index: []"
      ]
     },
     "execution_count": 116,
     "metadata": {},
     "output_type": "execute_result"
    }
   ],
   "source": [
    "df2.loc[:,['uid','group']].groupby('uid').count().reset_index().query('group > 1')"
   ]
  },
  {
   "cell_type": "markdown",
   "metadata": {},
   "source": [
    "#### 2.2.3 Control and Treatment Homogenity"
   ]
  },
  {
   "cell_type": "code",
   "execution_count": 117,
   "metadata": {},
   "outputs": [
    {
     "data": {
      "text/html": [
       "<div>\n",
       "<style scoped>\n",
       "    .dataframe tbody tr th:only-of-type {\n",
       "        vertical-align: middle;\n",
       "    }\n",
       "\n",
       "    .dataframe tbody tr th {\n",
       "        vertical-align: top;\n",
       "    }\n",
       "\n",
       "    .dataframe thead th {\n",
       "        text-align: right;\n",
       "    }\n",
       "</style>\n",
       "<table border=\"1\" class=\"dataframe\">\n",
       "  <thead>\n",
       "    <tr style=\"text-align: right;\">\n",
       "      <th></th>\n",
       "      <th>gender</th>\n",
       "      <th>group</th>\n",
       "      <th>uid</th>\n",
       "    </tr>\n",
       "  </thead>\n",
       "  <tbody>\n",
       "    <tr>\n",
       "      <th>0</th>\n",
       "      <td>F</td>\n",
       "      <td>GRP A</td>\n",
       "      <td>493</td>\n",
       "    </tr>\n",
       "    <tr>\n",
       "      <th>1</th>\n",
       "      <td>F</td>\n",
       "      <td>GRP B</td>\n",
       "      <td>475</td>\n",
       "    </tr>\n",
       "    <tr>\n",
       "      <th>2</th>\n",
       "      <td>M</td>\n",
       "      <td>GRP A</td>\n",
       "      <td>477</td>\n",
       "    </tr>\n",
       "    <tr>\n",
       "      <th>3</th>\n",
       "      <td>M</td>\n",
       "      <td>GRP B</td>\n",
       "      <td>489</td>\n",
       "    </tr>\n",
       "  </tbody>\n",
       "</table>\n",
       "</div>"
      ],
      "text/plain": [
       "  gender  group  uid\n",
       "0      F  GRP A  493\n",
       "1      F  GRP B  475\n",
       "2      M  GRP A  477\n",
       "3      M  GRP B  489"
      ]
     },
     "execution_count": 117,
     "metadata": {},
     "output_type": "execute_result"
    }
   ],
   "source": [
    "df2.loc[:,['uid','group','gender']].groupby(['gender','group']).count().reset_index()"
   ]
  },
  {
   "cell_type": "code",
   "execution_count": 118,
   "metadata": {},
   "outputs": [
    {
     "data": {
      "text/html": [
       "<div>\n",
       "<style scoped>\n",
       "    .dataframe tbody tr th:only-of-type {\n",
       "        vertical-align: middle;\n",
       "    }\n",
       "\n",
       "    .dataframe tbody tr th {\n",
       "        vertical-align: top;\n",
       "    }\n",
       "\n",
       "    .dataframe thead th {\n",
       "        text-align: right;\n",
       "    }\n",
       "</style>\n",
       "<table border=\"1\" class=\"dataframe\">\n",
       "  <thead>\n",
       "    <tr style=\"text-align: right;\">\n",
       "      <th></th>\n",
       "      <th>device</th>\n",
       "      <th>group</th>\n",
       "      <th>uid</th>\n",
       "    </tr>\n",
       "  </thead>\n",
       "  <tbody>\n",
       "    <tr>\n",
       "      <th>0</th>\n",
       "      <td>A</td>\n",
       "      <td>GRP A</td>\n",
       "      <td>449</td>\n",
       "    </tr>\n",
       "    <tr>\n",
       "      <th>1</th>\n",
       "      <td>A</td>\n",
       "      <td>GRP B</td>\n",
       "      <td>491</td>\n",
       "    </tr>\n",
       "    <tr>\n",
       "      <th>2</th>\n",
       "      <td>I</td>\n",
       "      <td>GRP A</td>\n",
       "      <td>521</td>\n",
       "    </tr>\n",
       "    <tr>\n",
       "      <th>3</th>\n",
       "      <td>I</td>\n",
       "      <td>GRP B</td>\n",
       "      <td>473</td>\n",
       "    </tr>\n",
       "  </tbody>\n",
       "</table>\n",
       "</div>"
      ],
      "text/plain": [
       "  device  group  uid\n",
       "0      A  GRP A  449\n",
       "1      A  GRP B  491\n",
       "2      I  GRP A  521\n",
       "3      I  GRP B  473"
      ]
     },
     "execution_count": 118,
     "metadata": {},
     "output_type": "execute_result"
    }
   ],
   "source": [
    "df2.loc[:,['uid','group','device']].groupby(['device','group']).count().reset_index()"
   ]
  },
  {
   "cell_type": "code",
   "execution_count": 119,
   "metadata": {},
   "outputs": [
    {
     "data": {
      "text/html": [
       "<div>\n",
       "<style scoped>\n",
       "    .dataframe tbody tr th:only-of-type {\n",
       "        vertical-align: middle;\n",
       "    }\n",
       "\n",
       "    .dataframe tbody tr th {\n",
       "        vertical-align: top;\n",
       "    }\n",
       "\n",
       "    .dataframe thead tr th {\n",
       "        text-align: left;\n",
       "    }\n",
       "\n",
       "    .dataframe thead tr:last-of-type th {\n",
       "        text-align: right;\n",
       "    }\n",
       "</style>\n",
       "<table border=\"1\" class=\"dataframe\">\n",
       "  <thead>\n",
       "    <tr>\n",
       "      <th></th>\n",
       "      <th>country</th>\n",
       "      <th colspan=\"5\" halign=\"left\">spent</th>\n",
       "      <th colspan=\"5\" halign=\"left\">purchases</th>\n",
       "    </tr>\n",
       "    <tr>\n",
       "      <th></th>\n",
       "      <th>count</th>\n",
       "      <th>min</th>\n",
       "      <th>max</th>\n",
       "      <th>mean</th>\n",
       "      <th>median</th>\n",
       "      <th>std</th>\n",
       "      <th>min</th>\n",
       "      <th>max</th>\n",
       "      <th>mean</th>\n",
       "      <th>median</th>\n",
       "      <th>std</th>\n",
       "    </tr>\n",
       "    <tr>\n",
       "      <th>group</th>\n",
       "      <th></th>\n",
       "      <th></th>\n",
       "      <th></th>\n",
       "      <th></th>\n",
       "      <th></th>\n",
       "      <th></th>\n",
       "      <th></th>\n",
       "      <th></th>\n",
       "      <th></th>\n",
       "      <th></th>\n",
       "      <th></th>\n",
       "    </tr>\n",
       "  </thead>\n",
       "  <tbody>\n",
       "    <tr>\n",
       "      <th>GRP A</th>\n",
       "      <td>970</td>\n",
       "      <td>99</td>\n",
       "      <td>8581</td>\n",
       "      <td>1794.191753</td>\n",
       "      <td>1497.0</td>\n",
       "      <td>1273.604015</td>\n",
       "      <td>1</td>\n",
       "      <td>19</td>\n",
       "      <td>4.364948</td>\n",
       "      <td>4.0</td>\n",
       "      <td>2.934934</td>\n",
       "    </tr>\n",
       "    <tr>\n",
       "      <th>GRP B</th>\n",
       "      <td>964</td>\n",
       "      <td>99</td>\n",
       "      <td>8980</td>\n",
       "      <td>1954.675311</td>\n",
       "      <td>1696.0</td>\n",
       "      <td>1332.172125</td>\n",
       "      <td>1</td>\n",
       "      <td>20</td>\n",
       "      <td>4.764523</td>\n",
       "      <td>4.0</td>\n",
       "      <td>3.023540</td>\n",
       "    </tr>\n",
       "  </tbody>\n",
       "</table>\n",
       "</div>"
      ],
      "text/plain": [
       "      country spent                                         purchases      \\\n",
       "        count   min   max         mean  median          std       min max   \n",
       "group                                                                       \n",
       "GRP A     970    99  8581  1794.191753  1497.0  1273.604015         1  19   \n",
       "GRP B     964    99  8980  1954.675311  1696.0  1332.172125         1  20   \n",
       "\n",
       "                                  \n",
       "           mean median       std  \n",
       "group                             \n",
       "GRP A  4.364948    4.0  2.934934  \n",
       "GRP B  4.764523    4.0  3.023540  "
      ]
     },
     "execution_count": 119,
     "metadata": {},
     "output_type": "execute_result"
    }
   ],
   "source": [
    "df2.groupby('group').agg({'country':'count',\n",
    "                          'spent':['min','max','mean','median','std'],\n",
    "                          'purchases':['min','max','mean','median','std']})"
   ]
  },
  {
   "cell_type": "code",
   "execution_count": 120,
   "metadata": {},
   "outputs": [
    {
     "data": {
      "image/png": "[encoded data removed]",
      "text/plain": [
       "<Figure size 640x480 with 1 Axes>"
      ]
     },
     "metadata": {},
     "output_type": "display_data"
    }
   ],
   "source": [
    "df2.loc[df2['group'] == 'GRP A','purchases'].hist(bins = 20);\n",
    "df2.loc[df2['group'] == 'GRP B','purchases'].hist(bins = 20);\n",
    "#Distribuições extremamente parecidas"
   ]
  },
  {
   "cell_type": "code",
   "execution_count": 121,
   "metadata": {},
   "outputs": [
    {
     "data": {
      "image/png": "[encoded data removed]",
      "text/plain": [
       "<Figure size 640x480 with 1 Axes>"
      ]
     },
     "metadata": {},
     "output_type": "display_data"
    }
   ],
   "source": [
    "df2.loc[df2['group'] == 'GRP A','spent'].hist(bins = 20);\n",
    "df2.loc[df2['group'] == 'GRP B','spent'].hist(bins = 20);\n",
    "#Distribuições extremamente parecidas"
   ]
  },
  {
   "cell_type": "code",
   "execution_count": 122,
   "metadata": {},
   "outputs": [
    {
     "data": {
      "image/png": "[encoded data removed]",
      "text/plain": [
       "<Figure size 640x480 with 1 Axes>"
      ]
     },
     "metadata": {},
     "output_type": "display_data"
    }
   ],
   "source": [
    "list_mean = []\n",
    "#A distribuição da variável tem um perfil que não é uma normal, é um poassom, mas a média da amostragem tende a ser a normal\n",
    "for i in range(1200):\n",
    "  m = df2.loc[df2['group'] == 'GRP A','purchases'].sample(90).mean()\n",
    "  list_mean.append(m)\n",
    "plt.hist(list_mean);"
   ]
  },
  {
   "cell_type": "markdown",
   "metadata": {},
   "source": [
    "## 3.0 Teste de Hipóteses"
   ]
  },
  {
   "cell_type": "markdown",
   "metadata": {},
   "source": [
    "### 3.1 Groups"
   ]
  },
  {
   "cell_type": "code",
   "execution_count": 123,
   "metadata": {},
   "outputs": [
    {
     "name": "stdout",
     "output_type": "stream",
     "text": [
      "AVG Sample A: 1815.92 +/- 1271.61\n",
      "AVG Sample B: 1950.69 +/- 1322.14\n"
     ]
    }
   ],
   "source": [
    "sample_A = df2.loc[df2['group'] == 'GRP A','spent'].sample(n=sample_size,random_state=42)\n",
    "sample_B = df2.loc[df2['group'] == 'GRP B','spent'].sample(n=sample_size,random_state=42)\n",
    "\n",
    "#Métricas\n",
    "print(f'AVG Sample A: {round(sample_A.mean(),2)} +/- {round(sample_A.std(),2)}')\n",
    "print(f'AVG Sample B: {round(sample_B.mean(),2)} +/- {round(sample_B.std(),2)}')"
   ]
  },
  {
   "cell_type": "markdown",
   "metadata": {},
   "source": [
    "### 3.2 Inferência Estatística"
   ]
  },
  {
   "cell_type": "code",
   "execution_count": 124,
   "metadata": {},
   "outputs": [
    {
     "name": "stdout",
     "output_type": "stream",
     "text": [
      "p-value: 0.04\n"
     ]
    }
   ],
   "source": [
    "z_value,p_value = ttest_ind(sample_A,sample_B)\n",
    "print(f'p-value: {round(p_value,2)}')"
   ]
  },
  {
   "cell_type": "markdown",
   "metadata": {},
   "source": [
    "## 4.0 Conclusão"
   ]
  },
  {
   "cell_type": "code",
   "execution_count": 125,
   "metadata": {},
   "outputs": [
    {
     "name": "stdout",
     "output_type": "stream",
     "text": [
      "Rejeita a Hipótese nula\n",
      "O preenchimento automático trouxe uma mudança significativa no GMV médio da página\n",
      "Podemos liberar a página para toda a audiência do site\n"
     ]
    }
   ],
   "source": [
    "if p_value < 0.05:\n",
    "  print(f'Rejeita a Hipótese nula')\n",
    "  print(f'O preenchimento automático trouxe uma mudança significativa no GMV médio da página')\n",
    "  print(f'Podemos liberar a página para toda a audiência do site')\n",
    "else:\n",
    "  print(f'Falha em rejeitar a hipótese nula')\n",
    "  print(f'Não temos evidências suficientes para dizer que o preenchimento automático trouxe uma mudança significativa no GMV médio da página')\n",
    "  print(f'Repensar a estratéica do dispositivo de preenchumento automático')"
   ]
  },
  {
   "cell_type": "code",
   "execution_count": 126,
   "metadata": {},
   "outputs": [],
   "source": [
    "#Próximos passos - Criar fazer uma EDA que mostre como os valores são aprecidos e criar uma função por país"
   ]
  }
 ],
 "metadata": {
  "kernelspec": {
   "display_name": "a_b",
   "language": "python",
   "name": "python3"
  },
  "language_info": {
   "codemirror_mode": {
    "name": "ipython",
    "version": 3
   },
   "file_extension": ".py",
   "mimetype": "text/x-python",
   "name": "python",
   "nbconvert_exporter": "python",
   "pygments_lexer": "ipython3",
   "version": "3.10.11"
  }
 },
 "nbformat": 4,
 "nbformat_minor": 2
}
